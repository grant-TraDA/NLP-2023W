{
 "cells": [
  {
   "cell_type": "code",
   "execution_count": 1,
   "metadata": {},
   "outputs": [],
   "source": [
    "import sys\n",
    "sys.path.append('../')"
   ]
  },
  {
   "cell_type": "code",
   "execution_count": null,
   "metadata": {},
   "outputs": [],
   "source": [
    "import pandas as pd\n",
    "import os\n",
    "from src.embeddings import OpenaiAdaEmbedding, BertEmbedding, AngleEmbedding"
   ]
  },
  {
   "cell_type": "markdown",
   "metadata": {},
   "source": [
    "# Dataset preparation"
   ]
  },
  {
   "cell_type": "markdown",
   "metadata": {},
   "source": [
    "First we read taxonomy from original IPTC taxonomy file and process it "
   ]
  },
  {
   "cell_type": "code",
   "execution_count": 7,
   "metadata": {},
   "outputs": [],
   "source": [
    "df = pd.read_excel('../data/taxonomy/TAKSONOMIJA.xlsx', sheet_name='SubjectCodes', usecols='A:E', nrows=938, skiprows=2)"
   ]
  },
  {
   "cell_type": "markdown",
   "metadata": {},
   "source": [
    "Based on QCodes of each IPTC category we extract their hierarchies"
   ]
  },
  {
   "cell_type": "code",
   "execution_count": 8,
   "metadata": {},
   "outputs": [],
   "source": [
    "def get_hierarchy(x):\n",
    "    n = x.split(':')[1]\n",
    "    if n[2:] == '0' * len(n[2:]):\n",
    "        return 1\n",
    "    elif n[5:] == '0' * len(n[5:]):\n",
    "        return 2\n",
    "    else:\n",
    "        return 3"
   ]
  },
  {
   "cell_type": "code",
   "execution_count": 9,
   "metadata": {},
   "outputs": [],
   "source": [
    "df['hierarchy'] = df['Qcode'].apply(lambda x: get_hierarchy(x))"
   ]
  },
  {
   "cell_type": "code",
   "execution_count": 10,
   "metadata": {},
   "outputs": [],
   "source": [
    "df = df[['Qcode', 'hierarchy', 'IPTC NAME', 'IPTC DESCRIPTION']]\n",
    "\n",
    "df.columns = ['code', 'hierarchy', 'name', 'description']"
   ]
  },
  {
   "cell_type": "markdown",
   "metadata": {},
   "source": [
    "# Embedding extraction"
   ]
  },
  {
   "cell_type": "markdown",
   "metadata": {},
   "source": [
    "First we instantiate classes responsible for gathering:\n",
    "1. Ada Embeddings from OpenAI API\n",
    "2. Embeddings from `bert-base-uncased` BERT architecture \n",
    "3. Embeddings from open-source, state-of-the-art UAE-Large-V1 model https://huggingface.co/WhereIsAI/UAE-Large-V1\n",
    "\n",
    "To generate Ada Embeddings, an openai_key is needed. One can create such key at https://platform.openai.com/api-keys"
   ]
  },
  {
   "cell_type": "code",
   "execution_count": 6,
   "metadata": {},
   "outputs": [],
   "source": [
    "api_key = os.environ['OPENAI_API_KEY']\n",
    "openai_ada = OpenaiAdaEmbedding(api_key = api_key)\n",
    "bert = BertEmbedding(model_name = 'bert-base-uncased')\n",
    "angle = AngleEmbedding()"
   ]
  },
  {
   "cell_type": "markdown",
   "metadata": {},
   "source": [
    "We extract Ada, BERT and AnglE embeddings from names of categories"
   ]
  },
  {
   "cell_type": "code",
   "execution_count": 7,
   "metadata": {},
   "outputs": [],
   "source": [
    "df['ada_embedding_name'] = df['name'].apply(lambda x: openai_ada.get_embedding(x))\n",
    "df['bert_embedding_name'] = df['name'].apply(lambda x: bert.get_embedding(x))\n",
    "df['angle_embedding_name'] = df['name'].apply(lambda x: angle.get_embedding(x))\n",
    "df['angle_embedding_name'] = df['angle_embedding_name'].apply(lambda x: x.tolist())"
   ]
  },
  {
   "cell_type": "markdown",
   "metadata": {},
   "source": [
    "And for descriptions, as their embeddings might be more insightful."
   ]
  },
  {
   "cell_type": "code",
   "execution_count": 8,
   "metadata": {},
   "outputs": [],
   "source": [
    "df['ada_embedding_description'] = df['description'].apply(lambda x: openai_ada.get_embedding(x))\n",
    "df['bert_embedding_description'] = df['description'].apply(lambda x: bert.get_embedding(x))\n",
    "df['angle_embedding_description'] = df['description'].apply(lambda x: angle.get_embedding(x))\n",
    "df['angle_embedding_description'] = df['angle_embedding_description'].apply(lambda x: x.tolist())"
   ]
  },
  {
   "cell_type": "markdown",
   "metadata": {},
   "source": [
    "Finally we save the processed taxonomy to csv"
   ]
  },
  {
   "cell_type": "code",
   "execution_count": 10,
   "metadata": {},
   "outputs": [],
   "source": [
    "df_descriptions = df[['ada_embedding_description', 'bert_embedding_description', 'angle_embedding_description']]\n",
    "df_names = df[['ada_embedding_name', 'bert_embedding_name', 'angle_embedding_name']]"
   ]
  },
  {
   "cell_type": "code",
   "execution_count": 11,
   "metadata": {},
   "outputs": [],
   "source": [
    "df_descriptions.to_csv('../data/taxonomy/taxonomy_descriptions_embed.csv', index=False)\n",
    "df_names.to_csv('../data/taxonomy/taxonomy_names_embed.csv', index=False)"
   ]
  },
  {
   "cell_type": "code",
   "execution_count": 9,
   "metadata": {},
   "outputs": [],
   "source": [
    "df.to_csv('../data/taxonomy/taxonomy.csv', index=False)"
   ]
  },
  {
   "cell_type": "code",
   "execution_count": 20,
   "metadata": {},
   "outputs": [
    {
     "data": {
      "text/html": [
       "<div>\n",
       "<style scoped>\n",
       "    .dataframe tbody tr th:only-of-type {\n",
       "        vertical-align: middle;\n",
       "    }\n",
       "\n",
       "    .dataframe tbody tr th {\n",
       "        vertical-align: top;\n",
       "    }\n",
       "\n",
       "    .dataframe thead th {\n",
       "        text-align: right;\n",
       "    }\n",
       "</style>\n",
       "<table border=\"1\" class=\"dataframe\">\n",
       "  <thead>\n",
       "    <tr style=\"text-align: right;\">\n",
       "      <th></th>\n",
       "      <th>code</th>\n",
       "      <th>hierarchy</th>\n",
       "      <th>name</th>\n",
       "      <th>description</th>\n",
       "      <th>ada_embedding_name</th>\n",
       "      <th>bert_embedding_name</th>\n",
       "      <th>ada_embedding_description</th>\n",
       "      <th>bert_embedding_description</th>\n",
       "    </tr>\n",
       "  </thead>\n",
       "  <tbody>\n",
       "    <tr>\n",
       "      <th>0</th>\n",
       "      <td>subj:01000000</td>\n",
       "      <td>1</td>\n",
       "      <td>arts, culture and entertainment</td>\n",
       "      <td>Matters pertaining to the advancement and refi...</td>\n",
       "      <td>[-0.0018561693141236901, 0.00820828415453434, ...</td>\n",
       "      <td>[0.29135567, 0.53658617, 0.14300509, 0.0661959...</td>\n",
       "      <td>[-0.003499549115076661, -0.010010791942477226,...</td>\n",
       "      <td>[0.07155024, 0.47957146, 0.17099142, -0.082546...</td>\n",
       "    </tr>\n",
       "    <tr>\n",
       "      <th>1</th>\n",
       "      <td>subj:01001000</td>\n",
       "      <td>2</td>\n",
       "      <td>archaeology</td>\n",
       "      <td>Probing the past through ruins and artefacts</td>\n",
       "      <td>[0.0008693007985129952, -0.016492612659931183,...</td>\n",
       "      <td>[0.28388408, 0.36506987, -0.4875075, -0.067497...</td>\n",
       "      <td>[0.0012796183582395315, -0.005543092731386423,...</td>\n",
       "      <td>[0.17526373, 0.40781248, -0.111298054, -0.1549...</td>\n",
       "    </tr>\n",
       "    <tr>\n",
       "      <th>2</th>\n",
       "      <td>subj:01002000</td>\n",
       "      <td>2</td>\n",
       "      <td>architecture</td>\n",
       "      <td>Designing of buildings, monuments and the spac...</td>\n",
       "      <td>[-0.003000278491526842, -0.009844981133937836,...</td>\n",
       "      <td>[0.3987167, 0.4550103, -0.3130968, -0.09459012...</td>\n",
       "      <td>[0.012280375696718693, 0.0004783767508342862, ...</td>\n",
       "      <td>[0.5307179, 0.72216964, 0.2738483, -0.08355137...</td>\n",
       "    </tr>\n",
       "    <tr>\n",
       "      <th>3</th>\n",
       "      <td>subj:01003000</td>\n",
       "      <td>2</td>\n",
       "      <td>bullfighting</td>\n",
       "      <td>Classical contest pitting man against the bull</td>\n",
       "      <td>[-0.03164760768413544, 0.004129278939217329, -...</td>\n",
       "      <td>[0.13182184, -0.13112079, -0.5677358, 0.091910...</td>\n",
       "      <td>[-0.01748625561594963, 0.007708199787884951, 0...</td>\n",
       "      <td>[-0.50239855, -0.008285609, -0.1940193, 0.0154...</td>\n",
       "    </tr>\n",
       "    <tr>\n",
       "      <th>4</th>\n",
       "      <td>subj:01004000</td>\n",
       "      <td>2</td>\n",
       "      <td>festive event (including carnival)</td>\n",
       "      <td>Parades, parties, celebrations and the like no...</td>\n",
       "      <td>[-0.024428900331258774, -0.01666032150387764, ...</td>\n",
       "      <td>[-0.109260455, 0.023998955, -0.11399407, -0.23...</td>\n",
       "      <td>[-0.017328009009361267, -0.01992149092257023, ...</td>\n",
       "      <td>[0.31001565, 0.38075322, 0.11926926, 0.1893968...</td>\n",
       "    </tr>\n",
       "  </tbody>\n",
       "</table>\n",
       "</div>"
      ],
      "text/plain": [
       "            code  hierarchy                                name  \\\n",
       "0  subj:01000000          1     arts, culture and entertainment   \n",
       "1  subj:01001000          2                         archaeology   \n",
       "2  subj:01002000          2                        architecture   \n",
       "3  subj:01003000          2                        bullfighting   \n",
       "4  subj:01004000          2  festive event (including carnival)   \n",
       "\n",
       "                                         description  \\\n",
       "0  Matters pertaining to the advancement and refi...   \n",
       "1      Probing the past through ruins and artefacts    \n",
       "2  Designing of buildings, monuments and the spac...   \n",
       "3    Classical contest pitting man against the bull    \n",
       "4  Parades, parties, celebrations and the like no...   \n",
       "\n",
       "                                  ada_embedding_name  \\\n",
       "0  [-0.0018561693141236901, 0.00820828415453434, ...   \n",
       "1  [0.0008693007985129952, -0.016492612659931183,...   \n",
       "2  [-0.003000278491526842, -0.009844981133937836,...   \n",
       "3  [-0.03164760768413544, 0.004129278939217329, -...   \n",
       "4  [-0.024428900331258774, -0.01666032150387764, ...   \n",
       "\n",
       "                                 bert_embedding_name  \\\n",
       "0  [0.29135567, 0.53658617, 0.14300509, 0.0661959...   \n",
       "1  [0.28388408, 0.36506987, -0.4875075, -0.067497...   \n",
       "2  [0.3987167, 0.4550103, -0.3130968, -0.09459012...   \n",
       "3  [0.13182184, -0.13112079, -0.5677358, 0.091910...   \n",
       "4  [-0.109260455, 0.023998955, -0.11399407, -0.23...   \n",
       "\n",
       "                           ada_embedding_description  \\\n",
       "0  [-0.003499549115076661, -0.010010791942477226,...   \n",
       "1  [0.0012796183582395315, -0.005543092731386423,...   \n",
       "2  [0.012280375696718693, 0.0004783767508342862, ...   \n",
       "3  [-0.01748625561594963, 0.007708199787884951, 0...   \n",
       "4  [-0.017328009009361267, -0.01992149092257023, ...   \n",
       "\n",
       "                          bert_embedding_description  \n",
       "0  [0.07155024, 0.47957146, 0.17099142, -0.082546...  \n",
       "1  [0.17526373, 0.40781248, -0.111298054, -0.1549...  \n",
       "2  [0.5307179, 0.72216964, 0.2738483, -0.08355137...  \n",
       "3  [-0.50239855, -0.008285609, -0.1940193, 0.0154...  \n",
       "4  [0.31001565, 0.38075322, 0.11926926, 0.1893968...  "
      ]
     },
     "execution_count": 20,
     "metadata": {},
     "output_type": "execute_result"
    }
   ],
   "source": [
    "df.head(5)"
   ]
  }
 ],
 "metadata": {
  "kernelspec": {
   "display_name": "venv",
   "language": "python",
   "name": "python3"
  },
  "language_info": {
   "codemirror_mode": {
    "name": "ipython",
    "version": 3
   },
   "file_extension": ".py",
   "mimetype": "text/x-python",
   "name": "python",
   "nbconvert_exporter": "python",
   "pygments_lexer": "ipython3",
   "version": "3.10.7"
  }
 },
 "nbformat": 4,
 "nbformat_minor": 2
}
