{
 "cells": [
  {
   "cell_type": "code",
   "execution_count": 7,
   "id": "542c3c76",
   "metadata": {},
   "outputs": [],
   "source": [
    "import autorootcwd\n",
    "import pandas as pd\n",
    "import openai\n",
    "import json\n",
    "from tqdm import tqdm\n",
    "import umap\n",
    "import matplotlib.pyplot as plt\n",
    "import plotly.express as px\n",
    "\n",
    "from src.embeddings import AngleEmbedding"
   ]
  },
  {
   "cell_type": "markdown",
   "id": "dc2eae81",
   "metadata": {},
   "source": [
    "# Category description expansion"
   ]
  },
  {
   "cell_type": "markdown",
   "id": "526e4981",
   "metadata": {},
   "source": [
    "We use language models to generate a set of extended descriptions for each category, based on the original name and description. Then we generate their embeddings and save them to `data/taxonomy/taxonomy_expanded.csv`."
   ]
  },
  {
   "cell_type": "code",
   "execution_count": 3,
   "id": "98a34d59",
   "metadata": {},
   "outputs": [],
   "source": [
    "client = openai.Client()\n",
    "angle = AngleEmbedding()"
   ]
  },
  {
   "cell_type": "code",
   "execution_count": 4,
   "id": "2f5f809d",
   "metadata": {},
   "outputs": [],
   "source": [
    "def get_embedding(text, model=\"text-embedding-ada-002\"):\n",
    "   response = client.embeddings.create(input = [text], model=model)\n",
    "   return response.data[0].embedding\n",
    "\n",
    "\n",
    "def generate(system, prompt, model=\"gpt4\", temperature=0.0, return_json=False):\n",
    "    if model == \"gpt35\":\n",
    "        model = \"gpt-3.5-turbo-1106\"\n",
    "    elif model == \"gpt4\":\n",
    "        model = \"gpt-4-1106-preview\"\n",
    "    else:\n",
    "        raise ValueError(\"model must be 'gpt35' or 'gpt4'\")\n",
    "    \n",
    "    args = {\n",
    "        \"model\": model, \n",
    "        \"messages\": [\n",
    "            {\"role\": \"system\", \"content\": system},\n",
    "            {\"role\": \"user\", \"content\": prompt},\n",
    "        ],\n",
    "        \"temperature\": temperature,\n",
    "        \"frequency_penalty\": 0.0,\n",
    "        \"presence_penalty\": 0.0,\n",
    "        \"n\": 1,\n",
    "    }\n",
    "\n",
    "    if return_json:\n",
    "        args[\"response_format\"] = {\"type\": \"json_object\"}\n",
    "        \n",
    "    completion = client.chat.completions.create(**args)\n",
    "    answer = completion.choices[0].message.content\n",
    "    return answer\n",
    "\n",
    "\n",
    "def generate_keywords(category, description):\n",
    "   system = \"You are a cautious assistant. You carefully follow instructions. You are designed to output JSON.\"\n",
    "   \n",
    "   with open('prompts/keywords.txt', 'r') as file:\n",
    "      prompt = file.read()\n",
    "      prompt.strip()\n",
    "      prompt = prompt.format(category=category, description=description)\n",
    "   \n",
    "   answer = generate(system=system, prompt=prompt, model=\"gpt4\", temperature=1.0, return_json=True)\n",
    "   json_obj = json.loads(answer)\n",
    "   keywords = json_obj[\"keywords\"]\n",
    "   keywords = ', '.join(keywords)\n",
    "   \n",
    "   return keywords\n",
    "\n",
    "\n",
    "def generate_example_articles(category, description):\n",
    "   pass\n",
    "\n",
    "\n",
    "def generate_descriptions(category, description):\n",
    "   pass"
   ]
  },
  {
   "cell_type": "code",
   "execution_count": 21,
   "id": "abc824a4",
   "metadata": {},
   "outputs": [
    {
     "name": "stdout",
     "output_type": "stream",
     "text": [
      "(937, 8)\n",
      "(17, 8)\n",
      "17 17\n"
     ]
    }
   ],
   "source": [
    "taxonomy = pd.read_csv('data/taxonomy/taxonomy.csv')\n",
    "print(taxonomy.shape)\n",
    "\n",
    "taxonomy_high_label=taxonomy[taxonomy['hierarchy']==1]\n",
    "print(taxonomy_high_label.shape)\n",
    "\n",
    "category_name_list = taxonomy_high_label['name'].tolist()\n",
    "category_description_list = taxonomy_high_label['description'].tolist()\n",
    "print(len(category_name_list), len(category_description_list))"
   ]
  },
  {
   "cell_type": "code",
   "execution_count": 7,
   "id": "941566af",
   "metadata": {},
   "outputs": [
    {
     "name": "stderr",
     "output_type": "stream",
     "text": [
      "Generating Keywords: 100%|██████████| 17/17 [07:52<00:00, 27.78s/it]\n"
     ]
    }
   ],
   "source": [
    "keywords_list = []\n",
    "for category, description in tqdm(list(zip(category_name_list, category_description_list)), desc=\"Generating Keywords\"):\n",
    "    keywords = generate_keywords(category=category, description=description)\n",
    "    keywords_list.append(keywords)"
   ]
  },
  {
   "cell_type": "code",
   "execution_count": 8,
   "id": "c3cee464",
   "metadata": {},
   "outputs": [
    {
     "data": {
      "text/plain": [
       "['performing arts, visual arts, literary arts, music, theater, dance, painting, sculpture, photography, film, fashion, culinary arts, architecture, museums, galleries, concerts, exhibitions, festivals, crafts, design, poetry, literature, novels, opera, ballet, jazz, rock music, pop culture, street art, graffiti, modern art, classical music, creative writing, stand-up comedy, art history, artificial intelligence in art, cultural heritage, art conservation, art education, film industry, cinematography, animation, digital art, game design, arts criticism, arts funding, arts policy, arts therapy, cultural festivals, folk arts, indie music, art auctions, art fairs, art movements, fine arts, artistic expression, creative industries, entertainment law, cultural events, celebrity culture, art awards, art grants, art competitions, avant-garde, choreography, artistic collaboration, cultural identity, world music, collectible arts, artistic innovation, street performances, arts advocacy, art collectors, art dealers, art critics, cultural policy, genre cinema, historical reenactment, subcultures, artistic mediums, cultural studies, cultural tourism, artisanal crafts',\n",
       " 'criminal justice system, law enforcement agencies, judiciary branch, legal statutes, civil rights violations, criminal prosecution, sentencing guidelines, felony charges, misdemeanor offenses, legal code amendments, law and order policies, police misconduct, courtroom trials, judicial review, crime prevention strategies, penal system, juvenile delinquency, bail reforms, probation system, plea bargaining, public defender services, victim advocacy, forensics analysis, criminal defense, correctional facilities, legislative oversight, white-collar crimes, drug trafficking laws, domestic violence acts, arrest warrants, search and seizure, crime statistics, recidivism rates, restorative justice, capital punishment, mental health courts, jury selection process, hate crime legislation, criminal appeals process, decriminalization policies, youth offender programs, community policing initiatives, fraud investigations, cybercrime laws, identity theft penalties, sexual assault protocols, homicide investigations, terrorism charges, human trafficking enforcement, embezzlement cases, corruption scandals, data privacy laws, legal advocacy groups, parole eligibility, witness protection programs, extradition treaties, forensic psychology, counter-terrorism measures, organized crime prosecution, intellectual property rights enforcement, border control security, money laundering regulations, legal aid resources, inmate rehabilitation programs, crime scene investigation',\n",
       " 'earthquake, flood, hurricane, tsunami, tornado, wildfire, drought, volcanic eruption, avalanche, landslide, industrial accident, nuclear disaster, chemical spill, oil spill, radiation leak, explosion, structural collapse, mining disaster, transportation accident, airplane crash, train derailment, shipwreck, traffic collision, bridge failure, pipeline burst, electrical fire, gas leak explosion, terrorism, armed conflict, riot, building fire, dam failure, power outage, cyber attack, biohazard incident, genetic pollution, infrastructure failure, mass poisoning, food contamination, water contamination, air pollution incident, deforestation, habitat destruction, resource depletion, ecosystem collapse, extreme weather event, heatwave, cold snap, toxic waste dumping, sinkhole, pesticide spill, crowd crush, amusement park accident, workplace injury, school shooting, public health emergency, pandemic, epidemic, animal attack, mass extinction event, environmental disaster, radiological emergency, drone collision',\n",
       " 'economic growth, GDP, stock market, business expansion, financial planning, monetary policy, investment strategies, trade agreements, market analysis, inflation rates, unemployment figures, consumer spending, fiscal policy, corporate earnings, wealth management, banking sector, interest rates, budget deficit, credit markets, tax legislation, financial regulation, exchange rates, economic forecast, venture capital, start-up ecosystem, business mergers, market trends, financial crisis, asset allocation, entrepreneurship, economic indicators, commodity prices, trade balance, economic sanctions, business innovation, investor sentiment, private equity, corporate governance, economic development, financial markets, government spending, business cycles, capital markets, economic policy, supply chain, business law, global economy, market volatility, public debt, economic stimulus, foreign investment, economic inequality, risk management, economic integration, business strategy, mergers and acquisitions, quantitative easing, fintech, green economy, sustainable finance, e-commerce trends, cryptocurrency markets, central banking, trade tariffs, industrial production, real estate market, financial literacy, economic conferences, business regulations, economic modeling, revenue forecasts, investment banking, economic resilience, business outsourcing',\n",
       " 'early childhood education, primary schooling, secondary education, higher education, vocational training, adult learning, e-learning, online courses, education technology, lifelong learning, academic research, curriculum development, standardized testing, education policy, special needs education, education reform, teacher training, student loans, scholarships, educational psychology, literacy programs, STEM education, arts education, educational equity, homeschooling, international education, educational assessment, career counseling, tuition fees, learning disabilities, graduation rates, education funding, classroom technology, study abroad programs, educational leadership, distance learning, extracurricular activities, education conferences, pedagogy, cognitive learning, academic publishing, school accreditation, bilingual education, educational grants, MOOCs, student engagement, educational games, academic advising, educational standards, student exchange programs, education startups, education innovation, library science, textbook publishing, education entrepreneurship, educational workshops, school safety, education advocacy, student mentoring, education statistics, peer learning, after-school programs, digital literacy, educational outreach, special education resources, academic competitions, educational apps, learning models, teacher certification, education law, child development, education research, cultural literacy, academic scholarships, education networking, professional development for educators, education policy analysis',\n",
       " 'climate change, global warming, deforestation, ozone layer depletion, air pollution, water pollution, soil contamination, endangered species, biodiversity loss, overfishing, habitat destruction, conservation efforts, sustainable development, renewable energy, recycling programs, carbon footprint reduction, environmental policy, eco-friendly technologies, greenhouse gas emissions, natural resource depletion, urban sprawl, environmental degradation, ecosystem services, wildlife preservation, marine pollution, acid rain, plastic waste, sustainable agriculture, clean air initiatives, clean water acts, environmental activism, oil spills, toxic waste disposal, environmental health impacts, invasive species, landfill overflow, melting ice caps, sea level rise, solar power adoption, wind energy expansion, geothermal energy, environmental education, organic farming, green building standards, low-carbon economy, electric vehicles, sustainable transport, public transit improvements, beach erosion, desertification, forest fires, eco-tourism, pesticide pollution, noise pollution, light pollution, environmental justice, climate adaptation, climate mitigation, environmental engineering, nature conservation laws, green politics, coral reef bleaching, fossil fuel divestment, animal poaching',\n",
       " 'wellness, fitness, nutrition, mental health, disease prevention, public health, healthcare, exercise, stress management, dietary habits, health policy, medical research, substance abuse, therapy, mindfulness, chronic illness, vaccinations, epidemiology, pediatrics, senior health, occupational safety, psychological wellbeing, preventive medicine, health education, sexual health, lifestyle diseases, maternal health, alternative medicine, health tech, health disparities, environmental health, health insurance, personal hygiene, pharmaceutical advancements, holistic health, emotional health, geriatrics, telemedicine, meditation, surgical innovations, reproductive health, addiction recovery, clinical trials, patient care, orthopedics, immunotherapy, cardiovascular health, neurology, oncology, gastrointestinal health, diabetes management, sports medicine, healthcare policies, physical therapy, dental health, vision care, audiology, skin care, ergonomics, obesity treatment, yoga and health, health informatics, antibiotic resistance, health innovation, health science, mobile health, natural remedies, health ethics, childhood obesity, endocrinology, aging and longevity, genetic disorders, sleep patterns, allergy and immunology, health regulations, mental resilience, pandemic response, viral outbreaks, health risk factors, health-aware consumerism, precision medicine, behavioral therapy, microbiome and health, health supplements, hormonal health, integrative health, health advocacy, community health, global health issues, infection control, biomedical engineering, radiology, health data analytics',\n",
       " 'heartwarming stories, inspiring individuals, community heroes, animal rescues, random acts of kindness, triumph over adversity, personal achievements, cultural celebrations, humanitarian efforts, overcoming challenges, charitable acts, emotional reunions, unusual companionships, extraordinary talents, lifestyle features, positive news, family milestones, elderly joys, youth accomplishments, neighborly goodwill, humorous anecdotes, acts of bravery, selfless volunteers, artistic expressions, innovative inventions, surprising turns of events, feel-good stories, underdog success, local interest pieces, courage in crisis, heartfelt tributes',\n",
       " \"workforce dynamics, employment legislation, trade unions, labor market trends, collective bargaining, occupational health and safety, minimum wage policy, unemployment benefits, industrial relations, job security, workplace diversity, employee rights, labour economics, social insurance, career development, work-life balance, vocational training, employment equity, labor strikes, human resource management, economic inequality, job creation programs, worker's compensation, labor law compliance, retirement planning, workplace discrimination, employment standards, living wage debates, job market forecasting, employee welfare schemes, labor activism, skill acquisition, automation impact on jobs, youth employment, precarious work, right to work, underemployment, workplace harassment policies, labor dispute resolution, social security systems, maternity and paternity leave, flexible working hours, gig economy\",\n",
       " 'outdoor adventures, cultural experiences, luxury travel, family vacations, restaurant reviews, culinary tours, wellness retreats, extreme sports, leisure activities, hiking trails, beach getaways, world cuisine, home gardening, music festivals, road trips, sustainable tourism, spa holidays, wine tasting, craft hobbies, photography tours, book clubs, yoga retreats, fishing excursions, budget traveling, art galleries, amusement parks, romantic escapes, volunteer travel, solo journeys, ecotourism, pet-friendly vacations, gourmet dining, historical landmarks, weekend workshops, city breaks, cruise vacations, local festivals, urban exploration, wildlife safaris, cooking classes, scenic roadways, farm stays, vintage shopping, digital detox, mountain biking, meditation retreats, glamping, marathons, collecting hobbies, island hopping, treasure hunting, hot air ballooning, coffee culture tours, gaming conventions, water sports, national parks, eco gardening, winter sports, performance arts, foodie adventures, heritage trails, adventure parks, picnicking, miniature painting, RV traveling, camping sites, surf retreats, bridal showers, pilgrimage tours, stargazing events, rural exploration, cookout barbecues, dance workshops',\n",
       " 'elections, campaigns, legislation, diplomacy, treaties, government policies, political parties, voting rights, political scandals, leadership elections, political debates, senate proceedings, house of representatives, parliamentary sessions, international summits, peace negotiations, sanctions, political ideologies, civil rights, political activism, lobbying, political representation, municipal governance, county politics, state politics, national interests, foreign policy, military strategy, constitutional law, judiciary decisions, executive orders, political reforms, bilateral relations, geopolitical tensions, political transitions, regime change, electoral systems, democratic processes, autocratic governance, political movements, grassroots organizing, caucuses and primaries, political conventions, suffrage, legislative committees, budget hearings, policy making, party platforms, incumbency, political figures, diplomatic corps, consulates and embassies, ambassadors, state sovereignty, nation-building, gubernatorial races, mayoral contests, city councils, political patronage, super PACs, political donations, voter turnout, ward politics, political rallies, public administration, international law, political ethics, referendums, devolution, coalition governments, proxy wars, political alliances, third-party politics, left-wing politics, right-wing politics, moderate politics, political spectrums, political campaigns',\n",
       " 'theology, spirituality, faith, doctrine, dogma, divinity, philosophy of religion, worship, belief systems, rituals, religious ethics, sacred texts, spiritual practices, agnosticism, atheism, secularism, mythology, religious history, ecumenism, interfaith dialogue, religious diversity, spiritual growth, moral philosophy, theodicy, eschatology, proselytism, reformation, religious extremism, mysticism, pilgrimage, meditation, prayer, sacraments, ordination, clericalism, monasticism, veneration, deism, pantheism, monotheism, polytheism, animism, syncretism, karma, dharma, soteriology, heresy, blasphemy, saints, religious persecution, secular ethics, religious symbolism, transcendentalism, religious plurality, theological discourse, apologetics, holy sites, religious ceremonies, gospel, prophecy, spiritual enlightenment, religious fundamentalism, pastoral care, creationism, iconography',\n",
       " 'scientific research, technological advancements, quantum computing, biotechnology, nanotechnology, artificial intelligence, machine learning, space exploration, theoretical physics, clinical trials, renewable energy, robotics engineering, genetic engineering, cybersecurity developments, virtual reality, augmented reality, blockchain technology, physiological studies, material science, sustainable technologies, neuroscience discoveries, big data analytics, environmental science, climate change solutions, astrophysics phenomena, marine biology, pharmaceutical innovations, solar power systems, information technology trends, cosmological research, human-computer interaction, data mining technologies, evolutionary biology, scientific breakthroughs, wireless communication tech, automation systems, internet of things (IoT), medical devices, stem cell research, chemical engineering, particle physics, earth sciences, meteorology study, digital transformation, computational models, fusion energy, aerospace developments, genome sequencing, agricultural science, archaeological discoveries, forensic technologies, planetary science, electronics and circuits, 3D printing applications, infectious diseases research, theoretical computer science, optical engineering, electromagnetic studies, geophysical explorations',\n",
       " \"poverty, inequality, human rights, racial discrimination, gender discrimination, social justice, child welfare, unemployment, homelessness, mental health, drug abuse, domestic violence, education gap, climate change, hunger, healthcare access, disability rights, living wages, immigration, child labor, bullying, elder abuse, corruption, police brutality, LGBTQ issues, religious freedom, digital divide, food deserts, environmental justice, prison reform, veterans' affairs, gun violence, addiction, social exclusion, obesity epidemic, teen pregnancy, civic engagement, voting rights, gender pay gap, access to education, urban decay, gentrification, refugee crisis, cyberbullying, internet privacy, freedom of speech, animal rights, sustainable development, water scarcity, air pollution, recycling issues, conservation efforts, childhood obesity, renewable energy, public transportation, affordable housing, racial profiling, food insecurity, substance abuse, workplace harassment, cultural appropriation, digital literacy, age discrimination, juvenile justice, nuclear disarmament, media bias, academic freedom, brain drain, economic sanctions, neo-colonialism, gender roles, social mobility, birth control, death penalty, war refugees, censorship, pandemic impact\",\n",
       " 'athletics, team sports, Olympic games, fitness competition, sports league, physical training, professional athletes, sporting events, sportsmanship, exercise, marathon running, sports organizations, international sports federations, world championships, sports governance, coaching staff, player drafts, sports medicine, competitive gaming, extreme sports, indoor sports, outdoor sports, water sports, winter sports, national teams, sports regulations, sports law, strength training, endurance training, speed training, team strategy, sports psychology, athletic performance, sports nutrition, sports sponsorship, sports broadcasting, sports facilities, sports equipment, fitness centers, physical education, doping in sports, bodybuilding competition, sports fan culture, sports betting, competitive swimming, gymnastics, sports analytics, athlete recruitment, physical therapy for athletes, sports awards, sports history, sports training academies, varsity sports, youth sports leagues, sports scholarships, fantasy sports, motor sports, action sports, adaptive sports, sports for disabled, sportsmanship awards, sport-specific training',\n",
       " 'civil conflict, political turmoil, armed rebellion, uprising, military coup, insurgency, revolution, street protests, violent clashes, guerrilla warfare, separatist movement, riot, ethnic strife, sectarian violence, border skirmish, terrorist attack, peacekeeping mission, war zone, battlefield engagements, diplomatic crisis, interstate conflict, Cold War tension, proxy war, nuclear threat, ceasefire violation, radical extremism, anarchism, civil disobedience, mutiny, state of emergency, humanitarian crisis, escalation of hostilities, paramilitary forces, revolutionary guards, war crimes, autonomy dispute, nationalist militia, cyber warfare, ideological conflict, political assassination, sanctions regime, strategic military operation, rebel faction, peace protest, internecine conflict, subversive activities, massacre, genocide, ethnic cleansing, non-interventionism, pacifism, sovereignty movement, anti-war movement, resistance group, foreign intervention, civil resistance, freedom fighters, liberation struggle, demilitarization, arms race, diplomatic negotiation, peace talks',\n",
       " 'forecasting, climate analysis, meteorology, atmospheric science, precipitation tracking, temperature trends, weather patterns, weather reports, weather warnings, weather radar, severe weather alerts, hurricane tracking, doppler radar, barometric pressure, weather satellites, atmospheric pressure, tropical storms, weather models, storm chasing, weather phenomena, cyclone forecasting, weather stations, humidity measurements, weather anomalies, long-term forecasts, heatwaves, meteorological events, climate dynamics, wind patterns, extreme weather, precipitation predictions, synoptic meteorology, weather trends, meteorological instruments, atmospheric conditions, weather disruptions, weather maps, weather research, thunderstorm analysis, hydrometeorology, cold fronts, weather balloons, weather anomalies, weather extremes, air masses, climatological studies, weather safety, weather advisories, flood forecasting, weather predictions, weather apps, weather efficiency, weather warnings, air quality index, blizzard tracking, seasonal weather, atmospheric disturbances, weather technology, weather forecast models, environmental meteorology, weather alert systems, weather modification, weather-related emergencies, weather monitoring, tornado warnings, oceanographic meteorology, weather impact assessment, wind chill factor, weather satellites, weather network, weather data analytics, weather telemetry, weather service providers, weather navigation, microclimates, weather fronts, weather education, weather preparedness, weather derivatives, climate change projections']"
      ]
     },
     "execution_count": 8,
     "metadata": {},
     "output_type": "execute_result"
    }
   ],
   "source": [
    "keywords_list"
   ]
  },
  {
   "cell_type": "code",
   "execution_count": 9,
   "id": "bdb6baa6",
   "metadata": {},
   "outputs": [
    {
     "name": "stderr",
     "output_type": "stream",
     "text": [
      "Generating Embeddings: 100%|██████████| 17/17 [01:38<00:00,  5.77s/it]\n"
     ]
    }
   ],
   "source": [
    "final_description_form = \"\"\"\n",
    "Name: {category}\n",
    "Description: {description}\n",
    "Keywords: {keywords}\n",
    "\"\"\"\n",
    "\n",
    "final_category_descriptions = []\n",
    "embeddings = []\n",
    "embeddings_angle = []\n",
    "for category, description, keywords in tqdm(list(zip(category_name_list, category_description_list, keywords_list)), desc=\"Generating Embeddings\"):\n",
    "    final_description = final_description_form.format(category=category, description=description, keywords=keywords)\n",
    "    final_description = final_description.strip()\n",
    "    final_category_descriptions.append(final_description)\n",
    "    \n",
    "    emb = get_embedding(text=final_description)\n",
    "    emb_angle = angle.get_embedding(final_description)\n",
    "    embeddings.append(emb)\n",
    "    embeddings_angle.append(emb_angle)"
   ]
  },
  {
   "cell_type": "code",
   "execution_count": 10,
   "id": "ef1710e8",
   "metadata": {},
   "outputs": [
    {
     "data": {
      "text/plain": [
       "['Name: arts, culture and entertainment\\nDescription: Matters pertaining to the advancement and refinement of the human mind, of interests, skills, tastes and emotions \\nKeywords: performing arts, visual arts, literary arts, music, theater, dance, painting, sculpture, photography, film, fashion, culinary arts, architecture, museums, galleries, concerts, exhibitions, festivals, crafts, design, poetry, literature, novels, opera, ballet, jazz, rock music, pop culture, street art, graffiti, modern art, classical music, creative writing, stand-up comedy, art history, artificial intelligence in art, cultural heritage, art conservation, art education, film industry, cinematography, animation, digital art, game design, arts criticism, arts funding, arts policy, arts therapy, cultural festivals, folk arts, indie music, art auctions, art fairs, art movements, fine arts, artistic expression, creative industries, entertainment law, cultural events, celebrity culture, art awards, art grants, art competitions, avant-garde, choreography, artistic collaboration, cultural identity, world music, collectible arts, artistic innovation, street performances, arts advocacy, art collectors, art dealers, art critics, cultural policy, genre cinema, historical reenactment, subcultures, artistic mediums, cultural studies, cultural tourism, artisanal crafts',\n",
       " 'Name: crime, law and justice\\nDescription: Establishment and/or statement of the rules of behaviour in society, the enforcement of these rules, breaches of the rules and the punishment of offenders. Organizations and bodies involved in these activities. \\nKeywords: criminal justice system, law enforcement agencies, judiciary branch, legal statutes, civil rights violations, criminal prosecution, sentencing guidelines, felony charges, misdemeanor offenses, legal code amendments, law and order policies, police misconduct, courtroom trials, judicial review, crime prevention strategies, penal system, juvenile delinquency, bail reforms, probation system, plea bargaining, public defender services, victim advocacy, forensics analysis, criminal defense, correctional facilities, legislative oversight, white-collar crimes, drug trafficking laws, domestic violence acts, arrest warrants, search and seizure, crime statistics, recidivism rates, restorative justice, capital punishment, mental health courts, jury selection process, hate crime legislation, criminal appeals process, decriminalization policies, youth offender programs, community policing initiatives, fraud investigations, cybercrime laws, identity theft penalties, sexual assault protocols, homicide investigations, terrorism charges, human trafficking enforcement, embezzlement cases, corruption scandals, data privacy laws, legal advocacy groups, parole eligibility, witness protection programs, extradition treaties, forensic psychology, counter-terrorism measures, organized crime prosecution, intellectual property rights enforcement, border control security, money laundering regulations, legal aid resources, inmate rehabilitation programs, crime scene investigation',\n",
       " 'Name: disaster and accident\\nDescription: Man made and natural events resulting in loss of life or injury to living creatures and/or damage to inanimate objects or property. \\nKeywords: earthquake, flood, hurricane, tsunami, tornado, wildfire, drought, volcanic eruption, avalanche, landslide, industrial accident, nuclear disaster, chemical spill, oil spill, radiation leak, explosion, structural collapse, mining disaster, transportation accident, airplane crash, train derailment, shipwreck, traffic collision, bridge failure, pipeline burst, electrical fire, gas leak explosion, terrorism, armed conflict, riot, building fire, dam failure, power outage, cyber attack, biohazard incident, genetic pollution, infrastructure failure, mass poisoning, food contamination, water contamination, air pollution incident, deforestation, habitat destruction, resource depletion, ecosystem collapse, extreme weather event, heatwave, cold snap, toxic waste dumping, sinkhole, pesticide spill, crowd crush, amusement park accident, workplace injury, school shooting, public health emergency, pandemic, epidemic, animal attack, mass extinction event, environmental disaster, radiological emergency, drone collision',\n",
       " 'Name: economy, business and finance\\nDescription: All matters concerning the planning, production and exchange of wealth. \\nKeywords: economic growth, GDP, stock market, business expansion, financial planning, monetary policy, investment strategies, trade agreements, market analysis, inflation rates, unemployment figures, consumer spending, fiscal policy, corporate earnings, wealth management, banking sector, interest rates, budget deficit, credit markets, tax legislation, financial regulation, exchange rates, economic forecast, venture capital, start-up ecosystem, business mergers, market trends, financial crisis, asset allocation, entrepreneurship, economic indicators, commodity prices, trade balance, economic sanctions, business innovation, investor sentiment, private equity, corporate governance, economic development, financial markets, government spending, business cycles, capital markets, economic policy, supply chain, business law, global economy, market volatility, public debt, economic stimulus, foreign investment, economic inequality, risk management, economic integration, business strategy, mergers and acquisitions, quantitative easing, fintech, green economy, sustainable finance, e-commerce trends, cryptocurrency markets, central banking, trade tariffs, industrial production, real estate market, financial literacy, economic conferences, business regulations, economic modeling, revenue forecasts, investment banking, economic resilience, business outsourcing',\n",
       " 'Name: education\\nDescription: All aspects of furthering knowledge of human individuals from birth to death. \\nKeywords: early childhood education, primary schooling, secondary education, higher education, vocational training, adult learning, e-learning, online courses, education technology, lifelong learning, academic research, curriculum development, standardized testing, education policy, special needs education, education reform, teacher training, student loans, scholarships, educational psychology, literacy programs, STEM education, arts education, educational equity, homeschooling, international education, educational assessment, career counseling, tuition fees, learning disabilities, graduation rates, education funding, classroom technology, study abroad programs, educational leadership, distance learning, extracurricular activities, education conferences, pedagogy, cognitive learning, academic publishing, school accreditation, bilingual education, educational grants, MOOCs, student engagement, educational games, academic advising, educational standards, student exchange programs, education startups, education innovation, library science, textbook publishing, education entrepreneurship, educational workshops, school safety, education advocacy, student mentoring, education statistics, peer learning, after-school programs, digital literacy, educational outreach, special education resources, academic competitions, educational apps, learning models, teacher certification, education law, child development, education research, cultural literacy, academic scholarships, education networking, professional development for educators, education policy analysis',\n",
       " 'Name: environmental issue\\nDescription: All aspects of protection, damage, and condition of the ecosystem of the planet earth and its surroundings. \\nKeywords: climate change, global warming, deforestation, ozone layer depletion, air pollution, water pollution, soil contamination, endangered species, biodiversity loss, overfishing, habitat destruction, conservation efforts, sustainable development, renewable energy, recycling programs, carbon footprint reduction, environmental policy, eco-friendly technologies, greenhouse gas emissions, natural resource depletion, urban sprawl, environmental degradation, ecosystem services, wildlife preservation, marine pollution, acid rain, plastic waste, sustainable agriculture, clean air initiatives, clean water acts, environmental activism, oil spills, toxic waste disposal, environmental health impacts, invasive species, landfill overflow, melting ice caps, sea level rise, solar power adoption, wind energy expansion, geothermal energy, environmental education, organic farming, green building standards, low-carbon economy, electric vehicles, sustainable transport, public transit improvements, beach erosion, desertification, forest fires, eco-tourism, pesticide pollution, noise pollution, light pollution, environmental justice, climate adaptation, climate mitigation, environmental engineering, nature conservation laws, green politics, coral reef bleaching, fossil fuel divestment, animal poaching',\n",
       " 'Name: health\\nDescription: All aspects pertaining to the physical and mental welfare of human beings. \\nKeywords: wellness, fitness, nutrition, mental health, disease prevention, public health, healthcare, exercise, stress management, dietary habits, health policy, medical research, substance abuse, therapy, mindfulness, chronic illness, vaccinations, epidemiology, pediatrics, senior health, occupational safety, psychological wellbeing, preventive medicine, health education, sexual health, lifestyle diseases, maternal health, alternative medicine, health tech, health disparities, environmental health, health insurance, personal hygiene, pharmaceutical advancements, holistic health, emotional health, geriatrics, telemedicine, meditation, surgical innovations, reproductive health, addiction recovery, clinical trials, patient care, orthopedics, immunotherapy, cardiovascular health, neurology, oncology, gastrointestinal health, diabetes management, sports medicine, healthcare policies, physical therapy, dental health, vision care, audiology, skin care, ergonomics, obesity treatment, yoga and health, health informatics, antibiotic resistance, health innovation, health science, mobile health, natural remedies, health ethics, childhood obesity, endocrinology, aging and longevity, genetic disorders, sleep patterns, allergy and immunology, health regulations, mental resilience, pandemic response, viral outbreaks, health risk factors, health-aware consumerism, precision medicine, behavioral therapy, microbiome and health, health supplements, hormonal health, integrative health, health advocacy, community health, global health issues, infection control, biomedical engineering, radiology, health data analytics',\n",
       " 'Name: human interest\\nDescription: Lighter items about individuals, groups, animals or objects. \\nKeywords: heartwarming stories, inspiring individuals, community heroes, animal rescues, random acts of kindness, triumph over adversity, personal achievements, cultural celebrations, humanitarian efforts, overcoming challenges, charitable acts, emotional reunions, unusual companionships, extraordinary talents, lifestyle features, positive news, family milestones, elderly joys, youth accomplishments, neighborly goodwill, humorous anecdotes, acts of bravery, selfless volunteers, artistic expressions, innovative inventions, surprising turns of events, feel-good stories, underdog success, local interest pieces, courage in crisis, heartfelt tributes',\n",
       " \"Name: labour\\nDescription: Social aspects, organizations, rules and conditions affecting the employment of human effort for the generation of wealth or provision of services and the economic support of the unemployed. \\nKeywords: workforce dynamics, employment legislation, trade unions, labor market trends, collective bargaining, occupational health and safety, minimum wage policy, unemployment benefits, industrial relations, job security, workplace diversity, employee rights, labour economics, social insurance, career development, work-life balance, vocational training, employment equity, labor strikes, human resource management, economic inequality, job creation programs, worker's compensation, labor law compliance, retirement planning, workplace discrimination, employment standards, living wage debates, job market forecasting, employee welfare schemes, labor activism, skill acquisition, automation impact on jobs, youth employment, precarious work, right to work, underemployment, workplace harassment policies, labor dispute resolution, social security systems, maternity and paternity leave, flexible working hours, gig economy\",\n",
       " 'Name: lifestyle and leisure\\nDescription: Activities undertaken for pleasure, relaxation or recreation outside paid employment, including eating and travel. \\nKeywords: outdoor adventures, cultural experiences, luxury travel, family vacations, restaurant reviews, culinary tours, wellness retreats, extreme sports, leisure activities, hiking trails, beach getaways, world cuisine, home gardening, music festivals, road trips, sustainable tourism, spa holidays, wine tasting, craft hobbies, photography tours, book clubs, yoga retreats, fishing excursions, budget traveling, art galleries, amusement parks, romantic escapes, volunteer travel, solo journeys, ecotourism, pet-friendly vacations, gourmet dining, historical landmarks, weekend workshops, city breaks, cruise vacations, local festivals, urban exploration, wildlife safaris, cooking classes, scenic roadways, farm stays, vintage shopping, digital detox, mountain biking, meditation retreats, glamping, marathons, collecting hobbies, island hopping, treasure hunting, hot air ballooning, coffee culture tours, gaming conventions, water sports, national parks, eco gardening, winter sports, performance arts, foodie adventures, heritage trails, adventure parks, picnicking, miniature painting, RV traveling, camping sites, surf retreats, bridal showers, pilgrimage tours, stargazing events, rural exploration, cookout barbecues, dance workshops',\n",
       " 'Name: politics\\nDescription: Local, regional, national and international exercise of power, or struggle for power, and the relationships between governing bodies and states. \\nKeywords: elections, campaigns, legislation, diplomacy, treaties, government policies, political parties, voting rights, political scandals, leadership elections, political debates, senate proceedings, house of representatives, parliamentary sessions, international summits, peace negotiations, sanctions, political ideologies, civil rights, political activism, lobbying, political representation, municipal governance, county politics, state politics, national interests, foreign policy, military strategy, constitutional law, judiciary decisions, executive orders, political reforms, bilateral relations, geopolitical tensions, political transitions, regime change, electoral systems, democratic processes, autocratic governance, political movements, grassroots organizing, caucuses and primaries, political conventions, suffrage, legislative committees, budget hearings, policy making, party platforms, incumbency, political figures, diplomatic corps, consulates and embassies, ambassadors, state sovereignty, nation-building, gubernatorial races, mayoral contests, city councils, political patronage, super PACs, political donations, voter turnout, ward politics, political rallies, public administration, international law, political ethics, referendums, devolution, coalition governments, proxy wars, political alliances, third-party politics, left-wing politics, right-wing politics, moderate politics, political spectrums, political campaigns',\n",
       " 'Name: religion and belief\\nDescription: All aspects of human existence involving theology, philosophy, ethics and spirituality. \\nKeywords: theology, spirituality, faith, doctrine, dogma, divinity, philosophy of religion, worship, belief systems, rituals, religious ethics, sacred texts, spiritual practices, agnosticism, atheism, secularism, mythology, religious history, ecumenism, interfaith dialogue, religious diversity, spiritual growth, moral philosophy, theodicy, eschatology, proselytism, reformation, religious extremism, mysticism, pilgrimage, meditation, prayer, sacraments, ordination, clericalism, monasticism, veneration, deism, pantheism, monotheism, polytheism, animism, syncretism, karma, dharma, soteriology, heresy, blasphemy, saints, religious persecution, secular ethics, religious symbolism, transcendentalism, religious plurality, theological discourse, apologetics, holy sites, religious ceremonies, gospel, prophecy, spiritual enlightenment, religious fundamentalism, pastoral care, creationism, iconography',\n",
       " 'Name: science and technology\\nDescription: All aspects pertaining to human understanding of nature and the physical world and the development and application of this knowledge \\nKeywords: scientific research, technological advancements, quantum computing, biotechnology, nanotechnology, artificial intelligence, machine learning, space exploration, theoretical physics, clinical trials, renewable energy, robotics engineering, genetic engineering, cybersecurity developments, virtual reality, augmented reality, blockchain technology, physiological studies, material science, sustainable technologies, neuroscience discoveries, big data analytics, environmental science, climate change solutions, astrophysics phenomena, marine biology, pharmaceutical innovations, solar power systems, information technology trends, cosmological research, human-computer interaction, data mining technologies, evolutionary biology, scientific breakthroughs, wireless communication tech, automation systems, internet of things (IoT), medical devices, stem cell research, chemical engineering, particle physics, earth sciences, meteorology study, digital transformation, computational models, fusion energy, aerospace developments, genome sequencing, agricultural science, archaeological discoveries, forensic technologies, planetary science, electronics and circuits, 3D printing applications, infectious diseases research, theoretical computer science, optical engineering, electromagnetic studies, geophysical explorations',\n",
       " \"Name: social issue\\nDescription: Aspects of the behaviour of humans affecting the quality of life. \\nKeywords: poverty, inequality, human rights, racial discrimination, gender discrimination, social justice, child welfare, unemployment, homelessness, mental health, drug abuse, domestic violence, education gap, climate change, hunger, healthcare access, disability rights, living wages, immigration, child labor, bullying, elder abuse, corruption, police brutality, LGBTQ issues, religious freedom, digital divide, food deserts, environmental justice, prison reform, veterans' affairs, gun violence, addiction, social exclusion, obesity epidemic, teen pregnancy, civic engagement, voting rights, gender pay gap, access to education, urban decay, gentrification, refugee crisis, cyberbullying, internet privacy, freedom of speech, animal rights, sustainable development, water scarcity, air pollution, recycling issues, conservation efforts, childhood obesity, renewable energy, public transportation, affordable housing, racial profiling, food insecurity, substance abuse, workplace harassment, cultural appropriation, digital literacy, age discrimination, juvenile justice, nuclear disarmament, media bias, academic freedom, brain drain, economic sanctions, neo-colonialism, gender roles, social mobility, birth control, death penalty, war refugees, censorship, pandemic impact\",\n",
       " 'Name: sport\\nDescription: Competitive exercise involving physical effort. Organizations and bodies involved in these activities. \\nKeywords: athletics, team sports, Olympic games, fitness competition, sports league, physical training, professional athletes, sporting events, sportsmanship, exercise, marathon running, sports organizations, international sports federations, world championships, sports governance, coaching staff, player drafts, sports medicine, competitive gaming, extreme sports, indoor sports, outdoor sports, water sports, winter sports, national teams, sports regulations, sports law, strength training, endurance training, speed training, team strategy, sports psychology, athletic performance, sports nutrition, sports sponsorship, sports broadcasting, sports facilities, sports equipment, fitness centers, physical education, doping in sports, bodybuilding competition, sports fan culture, sports betting, competitive swimming, gymnastics, sports analytics, athlete recruitment, physical therapy for athletes, sports awards, sports history, sports training academies, varsity sports, youth sports leagues, sports scholarships, fantasy sports, motor sports, action sports, adaptive sports, sports for disabled, sportsmanship awards, sport-specific training',\n",
       " 'Name: unrest, conflicts and war\\nDescription: Acts of socially or politically motivated protest and/or violence. \\nKeywords: civil conflict, political turmoil, armed rebellion, uprising, military coup, insurgency, revolution, street protests, violent clashes, guerrilla warfare, separatist movement, riot, ethnic strife, sectarian violence, border skirmish, terrorist attack, peacekeeping mission, war zone, battlefield engagements, diplomatic crisis, interstate conflict, Cold War tension, proxy war, nuclear threat, ceasefire violation, radical extremism, anarchism, civil disobedience, mutiny, state of emergency, humanitarian crisis, escalation of hostilities, paramilitary forces, revolutionary guards, war crimes, autonomy dispute, nationalist militia, cyber warfare, ideological conflict, political assassination, sanctions regime, strategic military operation, rebel faction, peace protest, internecine conflict, subversive activities, massacre, genocide, ethnic cleansing, non-interventionism, pacifism, sovereignty movement, anti-war movement, resistance group, foreign intervention, civil resistance, freedom fighters, liberation struggle, demilitarization, arms race, diplomatic negotiation, peace talks',\n",
       " 'Name: weather\\nDescription: The study, reporting and prediction of meteorological phenomena. \\nKeywords: forecasting, climate analysis, meteorology, atmospheric science, precipitation tracking, temperature trends, weather patterns, weather reports, weather warnings, weather radar, severe weather alerts, hurricane tracking, doppler radar, barometric pressure, weather satellites, atmospheric pressure, tropical storms, weather models, storm chasing, weather phenomena, cyclone forecasting, weather stations, humidity measurements, weather anomalies, long-term forecasts, heatwaves, meteorological events, climate dynamics, wind patterns, extreme weather, precipitation predictions, synoptic meteorology, weather trends, meteorological instruments, atmospheric conditions, weather disruptions, weather maps, weather research, thunderstorm analysis, hydrometeorology, cold fronts, weather balloons, weather anomalies, weather extremes, air masses, climatological studies, weather safety, weather advisories, flood forecasting, weather predictions, weather apps, weather efficiency, weather warnings, air quality index, blizzard tracking, seasonal weather, atmospheric disturbances, weather technology, weather forecast models, environmental meteorology, weather alert systems, weather modification, weather-related emergencies, weather monitoring, tornado warnings, oceanographic meteorology, weather impact assessment, wind chill factor, weather satellites, weather network, weather data analytics, weather telemetry, weather service providers, weather navigation, microclimates, weather fronts, weather education, weather preparedness, weather derivatives, climate change projections']"
      ]
     },
     "execution_count": 10,
     "metadata": {},
     "output_type": "execute_result"
    }
   ],
   "source": [
    "final_category_descriptions"
   ]
  },
  {
   "cell_type": "code",
   "execution_count": 24,
   "id": "0de0187c",
   "metadata": {},
   "outputs": [],
   "source": [
    "embeddings_str = [str(emb) for emb in embeddings]\n",
    "embeddings_angle_str = [str(list(emb)) for emb in embeddings_angle]\n",
    "\n",
    "taxonomy_high_label.loc[:, 'keywords'] = keywords_list\n",
    "taxonomy_high_label.loc[:, 'final_description'] = final_category_descriptions\n",
    "taxonomy_high_label.loc[:, 'final_description_ada_embedding'] = embeddings_str\n",
    "taxonomy_high_label.loc[:, 'final_description_angle_embedding'] = embeddings_angle_str\n",
    "\n",
    "taxonomy_high_label['angle_embedding_name'] = taxonomy['angle_embedding_name']\n",
    "taxonomy_high_label['angle_embedding_description'] = taxonomy['angle_embedding_description']\n",
    "\n",
    "taxonomy_high_label.to_csv('data/taxonomy/taxonomy_expanded.csv', index=False)\n",
    "taxonomy_high_label.to_json('data/taxonomy/taxonomy_expanded.json', orient=\"records\", indent=4)"
   ]
  },
  {
   "cell_type": "code",
   "execution_count": 16,
   "id": "52c5d3f1",
   "metadata": {},
   "outputs": [
    {
     "name": "stderr",
     "output_type": "stream",
     "text": [
      "OMP: Info #276: omp_set_nested routine deprecated, please use omp_set_max_active_levels instead.\n"
     ]
    },
    {
     "data": {
      "application/vnd.plotly.v1+json": {
       "config": {
        "plotlyServerURL": "https://plot.ly"
       },
       "data": [
        {
         "hovertemplate": "x=%{x}<br>y=%{y}<br>text=%{text}<extra></extra>",
         "legendgroup": "",
         "marker": {
          "color": "#636efa",
          "symbol": "circle"
         },
         "mode": "markers+text",
         "name": "",
         "orientation": "v",
         "showlegend": false,
         "text": [
          "arts, culture and entertainment",
          "crime, law and justice",
          "disaster and accident",
          "economy, business and finance",
          "education",
          "environmental issue",
          "health",
          "human interest",
          "labour",
          "lifestyle and leisure",
          "politics",
          "religion and belief",
          "science and technology",
          "social issue",
          "sport",
          "unrest, conflicts and war",
          "weather"
         ],
         "type": "scatter",
         "x": [
          0.02097195,
          0.111354604,
          0.7113475,
          1.4448764,
          1.2025068,
          1.551976,
          1.7390853,
          0.02574884,
          2.0811944,
          -0.61580145,
          0.72855645,
          0.5420106,
          0.85962635,
          2.054002,
          1.2953701,
          0.105091825,
          1.1468126
         ],
         "xaxis": "x",
         "y": [
          -7.3803687,
          -4.891345,
          -6.2799726,
          -5.776704,
          -8.117685,
          -6.518253,
          -7.616199,
          -6.5597625,
          -6.0077634,
          -6.933313,
          -5.2570944,
          -7.9519854,
          -7.4520245,
          -6.756769,
          -5.1595163,
          -5.605079,
          -6.9694524
         ],
         "yaxis": "y"
        }
       ],
       "layout": {
        "legend": {
         "tracegroupgap": 0
        },
        "template": {
         "data": {
          "bar": [
           {
            "error_x": {
             "color": "#2a3f5f"
            },
            "error_y": {
             "color": "#2a3f5f"
            },
            "marker": {
             "line": {
              "color": "#E5ECF6",
              "width": 0.5
             },
             "pattern": {
              "fillmode": "overlay",
              "size": 10,
              "solidity": 0.2
             }
            },
            "type": "bar"
           }
          ],
          "barpolar": [
           {
            "marker": {
             "line": {
              "color": "#E5ECF6",
              "width": 0.5
             },
             "pattern": {
              "fillmode": "overlay",
              "size": 10,
              "solidity": 0.2
             }
            },
            "type": "barpolar"
           }
          ],
          "carpet": [
           {
            "aaxis": {
             "endlinecolor": "#2a3f5f",
             "gridcolor": "white",
             "linecolor": "white",
             "minorgridcolor": "white",
             "startlinecolor": "#2a3f5f"
            },
            "baxis": {
             "endlinecolor": "#2a3f5f",
             "gridcolor": "white",
             "linecolor": "white",
             "minorgridcolor": "white",
             "startlinecolor": "#2a3f5f"
            },
            "type": "carpet"
           }
          ],
          "choropleth": [
           {
            "colorbar": {
             "outlinewidth": 0,
             "ticks": ""
            },
            "type": "choropleth"
           }
          ],
          "contour": [
           {
            "colorbar": {
             "outlinewidth": 0,
             "ticks": ""
            },
            "colorscale": [
             [
              0,
              "#0d0887"
             ],
             [
              0.1111111111111111,
              "#46039f"
             ],
             [
              0.2222222222222222,
              "#7201a8"
             ],
             [
              0.3333333333333333,
              "#9c179e"
             ],
             [
              0.4444444444444444,
              "#bd3786"
             ],
             [
              0.5555555555555556,
              "#d8576b"
             ],
             [
              0.6666666666666666,
              "#ed7953"
             ],
             [
              0.7777777777777778,
              "#fb9f3a"
             ],
             [
              0.8888888888888888,
              "#fdca26"
             ],
             [
              1,
              "#f0f921"
             ]
            ],
            "type": "contour"
           }
          ],
          "contourcarpet": [
           {
            "colorbar": {
             "outlinewidth": 0,
             "ticks": ""
            },
            "type": "contourcarpet"
           }
          ],
          "heatmap": [
           {
            "colorbar": {
             "outlinewidth": 0,
             "ticks": ""
            },
            "colorscale": [
             [
              0,
              "#0d0887"
             ],
             [
              0.1111111111111111,
              "#46039f"
             ],
             [
              0.2222222222222222,
              "#7201a8"
             ],
             [
              0.3333333333333333,
              "#9c179e"
             ],
             [
              0.4444444444444444,
              "#bd3786"
             ],
             [
              0.5555555555555556,
              "#d8576b"
             ],
             [
              0.6666666666666666,
              "#ed7953"
             ],
             [
              0.7777777777777778,
              "#fb9f3a"
             ],
             [
              0.8888888888888888,
              "#fdca26"
             ],
             [
              1,
              "#f0f921"
             ]
            ],
            "type": "heatmap"
           }
          ],
          "heatmapgl": [
           {
            "colorbar": {
             "outlinewidth": 0,
             "ticks": ""
            },
            "colorscale": [
             [
              0,
              "#0d0887"
             ],
             [
              0.1111111111111111,
              "#46039f"
             ],
             [
              0.2222222222222222,
              "#7201a8"
             ],
             [
              0.3333333333333333,
              "#9c179e"
             ],
             [
              0.4444444444444444,
              "#bd3786"
             ],
             [
              0.5555555555555556,
              "#d8576b"
             ],
             [
              0.6666666666666666,
              "#ed7953"
             ],
             [
              0.7777777777777778,
              "#fb9f3a"
             ],
             [
              0.8888888888888888,
              "#fdca26"
             ],
             [
              1,
              "#f0f921"
             ]
            ],
            "type": "heatmapgl"
           }
          ],
          "histogram": [
           {
            "marker": {
             "pattern": {
              "fillmode": "overlay",
              "size": 10,
              "solidity": 0.2
             }
            },
            "type": "histogram"
           }
          ],
          "histogram2d": [
           {
            "colorbar": {
             "outlinewidth": 0,
             "ticks": ""
            },
            "colorscale": [
             [
              0,
              "#0d0887"
             ],
             [
              0.1111111111111111,
              "#46039f"
             ],
             [
              0.2222222222222222,
              "#7201a8"
             ],
             [
              0.3333333333333333,
              "#9c179e"
             ],
             [
              0.4444444444444444,
              "#bd3786"
             ],
             [
              0.5555555555555556,
              "#d8576b"
             ],
             [
              0.6666666666666666,
              "#ed7953"
             ],
             [
              0.7777777777777778,
              "#fb9f3a"
             ],
             [
              0.8888888888888888,
              "#fdca26"
             ],
             [
              1,
              "#f0f921"
             ]
            ],
            "type": "histogram2d"
           }
          ],
          "histogram2dcontour": [
           {
            "colorbar": {
             "outlinewidth": 0,
             "ticks": ""
            },
            "colorscale": [
             [
              0,
              "#0d0887"
             ],
             [
              0.1111111111111111,
              "#46039f"
             ],
             [
              0.2222222222222222,
              "#7201a8"
             ],
             [
              0.3333333333333333,
              "#9c179e"
             ],
             [
              0.4444444444444444,
              "#bd3786"
             ],
             [
              0.5555555555555556,
              "#d8576b"
             ],
             [
              0.6666666666666666,
              "#ed7953"
             ],
             [
              0.7777777777777778,
              "#fb9f3a"
             ],
             [
              0.8888888888888888,
              "#fdca26"
             ],
             [
              1,
              "#f0f921"
             ]
            ],
            "type": "histogram2dcontour"
           }
          ],
          "mesh3d": [
           {
            "colorbar": {
             "outlinewidth": 0,
             "ticks": ""
            },
            "type": "mesh3d"
           }
          ],
          "parcoords": [
           {
            "line": {
             "colorbar": {
              "outlinewidth": 0,
              "ticks": ""
             }
            },
            "type": "parcoords"
           }
          ],
          "pie": [
           {
            "automargin": true,
            "type": "pie"
           }
          ],
          "scatter": [
           {
            "fillpattern": {
             "fillmode": "overlay",
             "size": 10,
             "solidity": 0.2
            },
            "type": "scatter"
           }
          ],
          "scatter3d": [
           {
            "line": {
             "colorbar": {
              "outlinewidth": 0,
              "ticks": ""
             }
            },
            "marker": {
             "colorbar": {
              "outlinewidth": 0,
              "ticks": ""
             }
            },
            "type": "scatter3d"
           }
          ],
          "scattercarpet": [
           {
            "marker": {
             "colorbar": {
              "outlinewidth": 0,
              "ticks": ""
             }
            },
            "type": "scattercarpet"
           }
          ],
          "scattergeo": [
           {
            "marker": {
             "colorbar": {
              "outlinewidth": 0,
              "ticks": ""
             }
            },
            "type": "scattergeo"
           }
          ],
          "scattergl": [
           {
            "marker": {
             "colorbar": {
              "outlinewidth": 0,
              "ticks": ""
             }
            },
            "type": "scattergl"
           }
          ],
          "scattermapbox": [
           {
            "marker": {
             "colorbar": {
              "outlinewidth": 0,
              "ticks": ""
             }
            },
            "type": "scattermapbox"
           }
          ],
          "scatterpolar": [
           {
            "marker": {
             "colorbar": {
              "outlinewidth": 0,
              "ticks": ""
             }
            },
            "type": "scatterpolar"
           }
          ],
          "scatterpolargl": [
           {
            "marker": {
             "colorbar": {
              "outlinewidth": 0,
              "ticks": ""
             }
            },
            "type": "scatterpolargl"
           }
          ],
          "scatterternary": [
           {
            "marker": {
             "colorbar": {
              "outlinewidth": 0,
              "ticks": ""
             }
            },
            "type": "scatterternary"
           }
          ],
          "surface": [
           {
            "colorbar": {
             "outlinewidth": 0,
             "ticks": ""
            },
            "colorscale": [
             [
              0,
              "#0d0887"
             ],
             [
              0.1111111111111111,
              "#46039f"
             ],
             [
              0.2222222222222222,
              "#7201a8"
             ],
             [
              0.3333333333333333,
              "#9c179e"
             ],
             [
              0.4444444444444444,
              "#bd3786"
             ],
             [
              0.5555555555555556,
              "#d8576b"
             ],
             [
              0.6666666666666666,
              "#ed7953"
             ],
             [
              0.7777777777777778,
              "#fb9f3a"
             ],
             [
              0.8888888888888888,
              "#fdca26"
             ],
             [
              1,
              "#f0f921"
             ]
            ],
            "type": "surface"
           }
          ],
          "table": [
           {
            "cells": {
             "fill": {
              "color": "#EBF0F8"
             },
             "line": {
              "color": "white"
             }
            },
            "header": {
             "fill": {
              "color": "#C8D4E3"
             },
             "line": {
              "color": "white"
             }
            },
            "type": "table"
           }
          ]
         },
         "layout": {
          "annotationdefaults": {
           "arrowcolor": "#2a3f5f",
           "arrowhead": 0,
           "arrowwidth": 1
          },
          "autotypenumbers": "strict",
          "coloraxis": {
           "colorbar": {
            "outlinewidth": 0,
            "ticks": ""
           }
          },
          "colorscale": {
           "diverging": [
            [
             0,
             "#8e0152"
            ],
            [
             0.1,
             "#c51b7d"
            ],
            [
             0.2,
             "#de77ae"
            ],
            [
             0.3,
             "#f1b6da"
            ],
            [
             0.4,
             "#fde0ef"
            ],
            [
             0.5,
             "#f7f7f7"
            ],
            [
             0.6,
             "#e6f5d0"
            ],
            [
             0.7,
             "#b8e186"
            ],
            [
             0.8,
             "#7fbc41"
            ],
            [
             0.9,
             "#4d9221"
            ],
            [
             1,
             "#276419"
            ]
           ],
           "sequential": [
            [
             0,
             "#0d0887"
            ],
            [
             0.1111111111111111,
             "#46039f"
            ],
            [
             0.2222222222222222,
             "#7201a8"
            ],
            [
             0.3333333333333333,
             "#9c179e"
            ],
            [
             0.4444444444444444,
             "#bd3786"
            ],
            [
             0.5555555555555556,
             "#d8576b"
            ],
            [
             0.6666666666666666,
             "#ed7953"
            ],
            [
             0.7777777777777778,
             "#fb9f3a"
            ],
            [
             0.8888888888888888,
             "#fdca26"
            ],
            [
             1,
             "#f0f921"
            ]
           ],
           "sequentialminus": [
            [
             0,
             "#0d0887"
            ],
            [
             0.1111111111111111,
             "#46039f"
            ],
            [
             0.2222222222222222,
             "#7201a8"
            ],
            [
             0.3333333333333333,
             "#9c179e"
            ],
            [
             0.4444444444444444,
             "#bd3786"
            ],
            [
             0.5555555555555556,
             "#d8576b"
            ],
            [
             0.6666666666666666,
             "#ed7953"
            ],
            [
             0.7777777777777778,
             "#fb9f3a"
            ],
            [
             0.8888888888888888,
             "#fdca26"
            ],
            [
             1,
             "#f0f921"
            ]
           ]
          },
          "colorway": [
           "#636efa",
           "#EF553B",
           "#00cc96",
           "#ab63fa",
           "#FFA15A",
           "#19d3f3",
           "#FF6692",
           "#B6E880",
           "#FF97FF",
           "#FECB52"
          ],
          "font": {
           "color": "#2a3f5f"
          },
          "geo": {
           "bgcolor": "white",
           "lakecolor": "white",
           "landcolor": "#E5ECF6",
           "showlakes": true,
           "showland": true,
           "subunitcolor": "white"
          },
          "hoverlabel": {
           "align": "left"
          },
          "hovermode": "closest",
          "mapbox": {
           "style": "light"
          },
          "paper_bgcolor": "white",
          "plot_bgcolor": "#E5ECF6",
          "polar": {
           "angularaxis": {
            "gridcolor": "white",
            "linecolor": "white",
            "ticks": ""
           },
           "bgcolor": "#E5ECF6",
           "radialaxis": {
            "gridcolor": "white",
            "linecolor": "white",
            "ticks": ""
           }
          },
          "scene": {
           "xaxis": {
            "backgroundcolor": "#E5ECF6",
            "gridcolor": "white",
            "gridwidth": 2,
            "linecolor": "white",
            "showbackground": true,
            "ticks": "",
            "zerolinecolor": "white"
           },
           "yaxis": {
            "backgroundcolor": "#E5ECF6",
            "gridcolor": "white",
            "gridwidth": 2,
            "linecolor": "white",
            "showbackground": true,
            "ticks": "",
            "zerolinecolor": "white"
           },
           "zaxis": {
            "backgroundcolor": "#E5ECF6",
            "gridcolor": "white",
            "gridwidth": 2,
            "linecolor": "white",
            "showbackground": true,
            "ticks": "",
            "zerolinecolor": "white"
           }
          },
          "shapedefaults": {
           "line": {
            "color": "#2a3f5f"
           }
          },
          "ternary": {
           "aaxis": {
            "gridcolor": "white",
            "linecolor": "white",
            "ticks": ""
           },
           "baxis": {
            "gridcolor": "white",
            "linecolor": "white",
            "ticks": ""
           },
           "bgcolor": "#E5ECF6",
           "caxis": {
            "gridcolor": "white",
            "linecolor": "white",
            "ticks": ""
           }
          },
          "title": {
           "x": 0.05
          },
          "xaxis": {
           "automargin": true,
           "gridcolor": "white",
           "linecolor": "white",
           "ticks": "",
           "title": {
            "standoff": 15
           },
           "zerolinecolor": "white",
           "zerolinewidth": 2
          },
          "yaxis": {
           "automargin": true,
           "gridcolor": "white",
           "linecolor": "white",
           "ticks": "",
           "title": {
            "standoff": 15
           },
           "zerolinecolor": "white",
           "zerolinewidth": 2
          }
         }
        },
        "title": {
         "text": "UMAP Embedding Space of Final Category Descriptions"
        },
        "xaxis": {
         "anchor": "y",
         "domain": [
          0,
          1
         ],
         "title": {
          "text": "x"
         }
        },
        "yaxis": {
         "anchor": "x",
         "domain": [
          0,
          1
         ],
         "title": {
          "text": "y"
         }
        }
       }
      }
     },
     "metadata": {},
     "output_type": "display_data"
    }
   ],
   "source": [
    "# Reduce the dimensionality of the embeddings using UMAP\n",
    "reducer = umap.UMAP()\n",
    "embedding_umap = reducer.fit_transform(embeddings)\n",
    "\n",
    "# Create an interactive scatter plot using Plotly\n",
    "fig = px.scatter(x=embedding_umap[:, 0], y=embedding_umap[:, 1], title='UMAP Embedding Space of Final Category Descriptions', text=category_name_list)\n",
    "fig.show()"
   ]
  }
 ],
 "metadata": {
  "kernelspec": {
   "display_name": "myenv",
   "language": "python",
   "name": "python3"
  },
  "language_info": {
   "codemirror_mode": {
    "name": "ipython",
    "version": 3
   },
   "file_extension": ".py",
   "mimetype": "text/x-python",
   "name": "python",
   "nbconvert_exporter": "python",
   "pygments_lexer": "ipython3",
   "version": "3.10.7"
  }
 },
 "nbformat": 4,
 "nbformat_minor": 5
}
