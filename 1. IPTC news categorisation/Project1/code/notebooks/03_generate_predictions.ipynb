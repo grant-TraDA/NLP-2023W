{
 "cells": [
  {
   "cell_type": "code",
   "execution_count": 5,
   "metadata": {},
   "outputs": [],
   "source": [
    "import sys\n",
    "sys.path.append('../')"
   ]
  },
  {
   "cell_type": "code",
   "execution_count": null,
   "metadata": {},
   "outputs": [],
   "source": [
    "import os\n",
    "import pandas as pd\n",
    "from src.embeddings import OpenaiAdaEmbedding, BertEmbedding, AngleEmbedding\n",
    "from src.exploratory_data_analysis import gather_data\n",
    "from tqdm import tqdm\n",
    "from sklearn.metrics.pairwise import cosine_similarity\n",
    "import numpy as np"
   ]
  },
  {
   "cell_type": "markdown",
   "metadata": {},
   "source": [
    "# Embedding generation"
   ]
  },
  {
   "cell_type": "markdown",
   "metadata": {},
   "source": [
    "First we instantiate classes responsible for gathering:\n",
    "1. Ada Embeddings from OpenAI API\n",
    "2. Embeddings from `bert-base-uncased` BERT architecture \n",
    "3. Embeddings from open-source, state-of-the-art UAE-Large-V1 model https://huggingface.co/WhereIsAI/UAE-Large-V1\n",
    "\n",
    "To generate Ada Embeddings, an openai_key is needed. One can create such key at https://platform.openai.com/api-keys"
   ]
  },
  {
   "cell_type": "code",
   "execution_count": 7,
   "metadata": {},
   "outputs": [],
   "source": [
    "api_key = os.environ['OPENAI_API_KEY']\n",
    "openai_embedding = OpenaiAdaEmbedding(api_key)\n",
    "bert_embedding = BertEmbedding(model_name='bert-base-uncased')\n",
    "angle_embedding = AngleEmbedding()"
   ]
  },
  {
   "cell_type": "markdown",
   "metadata": {},
   "source": [
    "The first step of classification involves creating embeddings of english articles. We gather them from `data/2023_articles_en` folder, where articles are aggregated based on month and day of its publication. Then we create embeddings for `text` column, which includes raw article texts."
   ]
  },
  {
   "cell_type": "code",
   "execution_count": null,
   "metadata": {},
   "outputs": [],
   "source": [
    "path = '../data/2023_articles_en'\n",
    "for folder in tqdm(os.listdir(path)):\n",
    "    for filename in os.listdir(f'{path}/{folder}'):\n",
    "        if filename.endswith(\".csv\"):\n",
    "            df = pd.read_csv(f'{path}/{folder}/{filename}')\n",
    "            df['ada_embedding'] = df['text'].apply(lambda x: openai_embedding.get_embedding(x) if x else None)\n",
    "            df['bert_embedding'] = df['text'].apply(lambda x: bert_embedding.get_embedding(x) if x else None)\n",
    "            df['angle_embedding'] = df['text'].apply(lambda x: angle_embedding.get_embedding(x) if x else None)\n",
    "            df.to_csv(f'{path}/{folder}/{filename}_embedded.csv', index=False)"
   ]
  },
  {
   "cell_type": "markdown",
   "metadata": {},
   "source": [
    "# Classification"
   ]
  },
  {
   "cell_type": "markdown",
   "metadata": {},
   "source": [
    "We load:\n",
    "1. IPTC taxonomy, with computed embeddings for names and descriptions\n",
    "2. csv's containing news articles into one dataframe"
   ]
  },
  {
   "cell_type": "code",
   "execution_count": 24,
   "metadata": {},
   "outputs": [],
   "source": [
    "path = '../data/2023_articles_en'\n",
    "articles = gather_data(path)\n",
    "taxonomy = pd.read_csv('../data/taxonomy/taxonomy.csv')"
   ]
  },
  {
   "cell_type": "markdown",
   "metadata": {},
   "source": [
    "Now we perform classification based on cosine similarity. More explicitly, for each news article an IPTC category with highest cosine similarity is chosen as its label."
   ]
  },
  {
   "cell_type": "markdown",
   "metadata": {},
   "source": [
    "We enclose the classification method inside a function. \n",
    "1. It reads article (taxonomy) embeddings, extracts the valid ones and save them to numpy array. \n",
    "2. Creates cosine similarity matrix between article and names of category embeddings (and embeddings of descriptions to be considered), and saves the most similar categories as `high_label`"
   ]
  },
  {
   "cell_type": "code",
   "execution_count": 8,
   "metadata": {},
   "outputs": [],
   "source": [
    "def iptc_categorisation(article, taxonomy, hierarchy=None, embedding='ada_embedding', type='name', with_eval=True):\n",
    "    \"\"\"\n",
    "    Args:\n",
    "        article (pd.DataFrame): Dataframe containing the articles.\n",
    "        taxonomy (pd.DataFrame): Dataframe containing the taxonomy.\n",
    "        hierarchy (int): Hierarchy of the taxonomy. Possible values: 1, 2, 3.\n",
    "        embedding (str): Embedding to use.\n",
    "        type (str): Type of embedding to use. Possible values: 'name', 'description'.\n",
    "    Returns:\n",
    "        pd.DataFrame: Dataframe containing the articles with the predicted categories.\n",
    "    \"\"\"\n",
    "    article_df = article[article[embedding] != None]\n",
    "    \n",
    "    if hierarchy:\n",
    "        category_df = taxonomy[taxonomy['hierarchy'] == hierarchy]\n",
    "    else:\n",
    "        category_df = taxonomy\n",
    "        \n",
    "    if with_eval:\n",
    "        article_df[embedding] = article_df[embedding].apply(eval)\n",
    "        category_df[f'{embedding}_{type}'] = category_df[f'{embedding}_{type}'].apply(eval)\n",
    "    \n",
    "    article_embeddings = np.array(article_df[embedding].tolist())\n",
    "    category_name_embeddings = np.array(category_df[f'{embedding}_{type}'].tolist())\n",
    "\n",
    "    cosine_similarity_matrix = cosine_similarity(article_embeddings, category_name_embeddings)\n",
    "    cosine_similarity_df = pd.DataFrame(cosine_similarity_matrix, columns=category_df['name'], index=article_df.index)\n",
    "    categories = cosine_similarity_df.idxmax(axis=1)\n",
    "    \n",
    "    return categories"
   ]
  },
  {
   "cell_type": "markdown",
   "metadata": {},
   "source": [
    "For now we experiment only with Ada Embeddings and at first, only top-level hierarchy from IPTC categories is considered. It is due to number of reasons:\n",
    "1. It is much easier to create test set for classification problem with 18 categories (number of top-level categories), in comparison to over 900 all categories\n",
    "2. We want to verify general understanding of the method based on cosine similarity, and if the results are promising, generalize it for more IPTC categories."
   ]
  },
  {
   "cell_type": "code",
   "execution_count": 13,
   "metadata": {},
   "outputs": [],
   "source": [
    "articles['high_label'] = iptc_categorisation(articles, taxonomy, hierarchy=1, embedding='ada_embedding', type='name', output_column='high_label')"
   ]
  },
  {
   "cell_type": "markdown",
   "metadata": {},
   "source": [
    "We also experimet with lower level hierarchy, and finally all hierarchies combined together. Impoprtant note is that for now we consider the embeddings of names of IPTC cateogries. Similar experiment could be conducted for descriptions."
   ]
  },
  {
   "cell_type": "code",
   "execution_count": 27,
   "metadata": {},
   "outputs": [],
   "source": [
    "articles['mid_label'] = iptc_categorisation(articles, taxonomy, hierarchy=2, embedding='ada_embedding', type='name')\n",
    "articles['label'] = iptc_categorisation(articles, taxonomy, hierarchy=None, embedding='ada_embedding', type='name')"
   ]
  },
  {
   "cell_type": "markdown",
   "metadata": {},
   "source": [
    "At last we filter out data points which are schedules of days, as they can't be reliably classified to any ot the IPTC categories (they usually match multiple categories)"
   ]
  },
  {
   "cell_type": "code",
   "execution_count": 28,
   "metadata": {},
   "outputs": [],
   "source": [
    "article_df = articles[articles['headline'].str.contains('Schedule of events') == False]\n",
    "article_df.to_csv('../data/articles_2023_en.csv', index=False)"
   ]
  },
  {
   "cell_type": "markdown",
   "metadata": {},
   "source": [
    "We examine the results by briefly looking at the assigned categories"
   ]
  },
  {
   "cell_type": "code",
   "execution_count": 29,
   "metadata": {},
   "outputs": [
    {
     "data": {
      "text/html": [
       "<div>\n",
       "<style scoped>\n",
       "    .dataframe tbody tr th:only-of-type {\n",
       "        vertical-align: middle;\n",
       "    }\n",
       "\n",
       "    .dataframe tbody tr th {\n",
       "        vertical-align: top;\n",
       "    }\n",
       "\n",
       "    .dataframe thead th {\n",
       "        text-align: right;\n",
       "    }\n",
       "</style>\n",
       "<table border=\"1\" class=\"dataframe\">\n",
       "  <thead>\n",
       "    <tr style=\"text-align: right;\">\n",
       "      <th></th>\n",
       "      <th>headline</th>\n",
       "      <th>lede</th>\n",
       "      <th>high_label</th>\n",
       "      <th>mid_label</th>\n",
       "      <th>label</th>\n",
       "    </tr>\n",
       "  </thead>\n",
       "  <tbody>\n",
       "    <tr>\n",
       "      <th>0</th>\n",
       "      <td>News from Slovenia</td>\n",
       "      <td>The Slovenian Press Agency news report is prot...</td>\n",
       "      <td>health</td>\n",
       "      <td>people</td>\n",
       "      <td>poll</td>\n",
       "    </tr>\n",
       "    <tr>\n",
       "      <th>2</th>\n",
       "      <td>Weather: Cloudy with rain</td>\n",
       "      <td>After a rainy night, most of the country will ...</td>\n",
       "      <td>weather</td>\n",
       "      <td>weather science</td>\n",
       "      <td>weather</td>\n",
       "    </tr>\n",
       "    <tr>\n",
       "      <th>3</th>\n",
       "      <td>Koper port welcoming first cruise ship this se...</td>\n",
       "      <td>Viking Sky with the capacity of 900 passengers...</td>\n",
       "      <td>arts, culture and entertainment</td>\n",
       "      <td>sailing</td>\n",
       "      <td>sailing</td>\n",
       "    </tr>\n",
       "    <tr>\n",
       "      <th>4</th>\n",
       "      <td>Ski jumper Anže Lanišek takes second place in ...</td>\n",
       "      <td>None</td>\n",
       "      <td>health</td>\n",
       "      <td>people</td>\n",
       "      <td>poll</td>\n",
       "    </tr>\n",
       "    <tr>\n",
       "      <th>5</th>\n",
       "      <td>Delo says US has become revolutionary state</td>\n",
       "      <td>Stalin must be laughing in his grave, as he wa...</td>\n",
       "      <td>unrest, conflicts and war</td>\n",
       "      <td>civil unrest</td>\n",
       "      <td>revolutions</td>\n",
       "    </tr>\n",
       "    <tr>\n",
       "      <th>6</th>\n",
       "      <td>Temp hiring increasingly popular despite conce...</td>\n",
       "      <td>Hiring temporary workers has become increasing...</td>\n",
       "      <td>labour</td>\n",
       "      <td>labour legislation</td>\n",
       "      <td>public employees</td>\n",
       "    </tr>\n",
       "    <tr>\n",
       "      <th>7</th>\n",
       "      <td>Ski jumper Anže Lanišek takes second place in ...</td>\n",
       "      <td>Anže Lanišek finished second at a ski jumping ...</td>\n",
       "      <td>sport</td>\n",
       "      <td>ski jumping</td>\n",
       "      <td>ski jumping</td>\n",
       "    </tr>\n",
       "    <tr>\n",
       "      <th>8</th>\n",
       "      <td>Dnevnik says Golob's visit to Ukraine brought ...</td>\n",
       "      <td>Commenting on Friday's visit by PM Robert Golo...</td>\n",
       "      <td>unrest, conflicts and war</td>\n",
       "      <td>diplomacy</td>\n",
       "      <td>diplomacy</td>\n",
       "    </tr>\n",
       "    <tr>\n",
       "      <th>9</th>\n",
       "      <td>Golob: Peace initiatives for Ukraine currently...</td>\n",
       "      <td>The international community's peace initiative...</td>\n",
       "      <td>unrest, conflicts and war</td>\n",
       "      <td>armed conflict</td>\n",
       "      <td>international military intervention</td>\n",
       "    </tr>\n",
       "    <tr>\n",
       "      <th>10</th>\n",
       "      <td>Slovenian ski jumping team finishes second in ...</td>\n",
       "      <td>None</td>\n",
       "      <td>health</td>\n",
       "      <td>people</td>\n",
       "      <td>poll</td>\n",
       "    </tr>\n",
       "  </tbody>\n",
       "</table>\n",
       "</div>"
      ],
      "text/plain": [
       "                                             headline  \\\n",
       "0                                  News from Slovenia   \n",
       "2                           Weather: Cloudy with rain   \n",
       "3   Koper port welcoming first cruise ship this se...   \n",
       "4   Ski jumper Anže Lanišek takes second place in ...   \n",
       "5         Delo says US has become revolutionary state   \n",
       "6   Temp hiring increasingly popular despite conce...   \n",
       "7   Ski jumper Anže Lanišek takes second place in ...   \n",
       "8   Dnevnik says Golob's visit to Ukraine brought ...   \n",
       "9   Golob: Peace initiatives for Ukraine currently...   \n",
       "10  Slovenian ski jumping team finishes second in ...   \n",
       "\n",
       "                                                 lede  \\\n",
       "0   The Slovenian Press Agency news report is prot...   \n",
       "2   After a rainy night, most of the country will ...   \n",
       "3   Viking Sky with the capacity of 900 passengers...   \n",
       "4                                                None   \n",
       "5   Stalin must be laughing in his grave, as he wa...   \n",
       "6   Hiring temporary workers has become increasing...   \n",
       "7   Anže Lanišek finished second at a ski jumping ...   \n",
       "8   Commenting on Friday's visit by PM Robert Golo...   \n",
       "9   The international community's peace initiative...   \n",
       "10                                               None   \n",
       "\n",
       "                         high_label           mid_label  \\\n",
       "0                            health              people   \n",
       "2                           weather     weather science   \n",
       "3   arts, culture and entertainment             sailing   \n",
       "4                            health              people   \n",
       "5         unrest, conflicts and war        civil unrest   \n",
       "6                            labour  labour legislation   \n",
       "7                             sport         ski jumping   \n",
       "8         unrest, conflicts and war           diplomacy   \n",
       "9         unrest, conflicts and war      armed conflict   \n",
       "10                           health              people   \n",
       "\n",
       "                                  label  \n",
       "0                                  poll  \n",
       "2                               weather  \n",
       "3                               sailing  \n",
       "4                                  poll  \n",
       "5                           revolutions  \n",
       "6                      public employees  \n",
       "7                           ski jumping  \n",
       "8                             diplomacy  \n",
       "9   international military intervention  \n",
       "10                                 poll  "
      ]
     },
     "execution_count": 29,
     "metadata": {},
     "output_type": "execute_result"
    }
   ],
   "source": [
    "article_view = article_df[['headline', 'lede', 'high_label', 'mid_label', 'label']]\n",
    "article_view.head(10)"
   ]
  },
  {
   "cell_type": "markdown",
   "metadata": {},
   "source": [
    "As the `data/articles_2023_en` dataset is too large to store on Github repository, we also assign labels to each separate dataframe from `data/2023_articles_en` directory"
   ]
  },
  {
   "cell_type": "code",
   "execution_count": 35,
   "metadata": {},
   "outputs": [
    {
     "name": "stderr",
     "output_type": "stream",
     "text": [
      " 70%|███████   | 7/10 [48:28<19:43, 394.58s/it]"
     ]
    }
   ],
   "source": [
    "path = '../data/2023_articles_en'\n",
    "\n",
    "for folder in tqdm(os.listdir(path)):\n",
    "    for filename in os.listdir(f'{path}/{folder}'):\n",
    "        if filename.endswith(\".csv\"):\n",
    "            taxonomy = pd.read_csv('../data/taxonomy/taxonomy.csv')\n",
    "            df = pd.read_csv(f'{path}/{folder}/{filename}')\n",
    "            df['high_label'] = iptc_categorisation(df, taxonomy, hierarchy=1, embedding='ada_embedding', type='name')\n",
    "            df['mid_label'] = iptc_categorisation(df, taxonomy, hierarchy=2, embedding='ada_embedding', type='name')\n",
    "            df['label'] = iptc_categorisation(df, taxonomy, hierarchy=None, embedding='ada_embedding', type='name')\n",
    "            df.to_csv(f'{path}/{folder}/{filename}', index=False)"
   ]
  },
  {
   "cell_type": "markdown",
   "metadata": {},
   "source": [
    "### Label test sets with Angle"
   ]
  },
  {
   "cell_type": "code",
   "execution_count": 21,
   "metadata": {},
   "outputs": [],
   "source": [
    "taxonomy = pd.read_csv('../data/taxonomy/taxonomy_names_embed.csv')\n",
    "taxonomy2 = pd.read_csv('../data/taxonomy/taxonomy.csv')\n",
    "test_set = pd.read_csv('../data/test_sets/test_set_random.csv')\n",
    "                       "
   ]
  },
  {
   "cell_type": "code",
   "execution_count": 26,
   "metadata": {},
   "outputs": [],
   "source": [
    "taxonomy['hierarchy'] = taxonomy2['hierarchy']\n",
    "taxonomy['name'] = taxonomy2['name']"
   ]
  },
  {
   "cell_type": "code",
   "execution_count": 29,
   "metadata": {},
   "outputs": [],
   "source": [
    "test_set['high_label2'] = iptc_categorisation(test_set, taxonomy, hierarchy=1, embedding='angle_embedding', type='name')\n",
    "test_set['mid_label2'] = iptc_categorisation(test_set, taxonomy, hierarchy=2, embedding='angle_embedding', type='name')\n",
    "test_set['label2'] = iptc_categorisation(test_set, taxonomy, hierarchy=None, embedding='angle_embedding', type='name')"
   ]
  },
  {
   "cell_type": "code",
   "execution_count": 30,
   "metadata": {},
   "outputs": [],
   "source": [
    "test_set.to_csv('../data/test_sets/test_set_random.csv', index=False)"
   ]
  }
 ],
 "metadata": {
  "kernelspec": {
   "display_name": "venv",
   "language": "python",
   "name": "python3"
  },
  "language_info": {
   "codemirror_mode": {
    "name": "ipython",
    "version": 3
   },
   "file_extension": ".py",
   "mimetype": "text/x-python",
   "name": "python",
   "nbconvert_exporter": "python",
   "pygments_lexer": "ipython3",
   "version": "3.10.7"
  }
 },
 "nbformat": 4,
 "nbformat_minor": 2
}
