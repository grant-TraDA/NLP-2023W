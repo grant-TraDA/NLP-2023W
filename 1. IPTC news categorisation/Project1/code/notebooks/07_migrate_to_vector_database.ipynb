{
 "cells": [
  {
   "cell_type": "code",
   "execution_count": 82,
   "metadata": {},
   "outputs": [],
   "source": [
    "import autorootcwd\n",
    "import chromadb\n",
    "import requests\n",
    "from chromadb.config import Settings\n",
    "from chromadb.utils import embedding_functions\n",
    "from chromadb import Documents, EmbeddingFunction, Embeddings\n",
    "from langchain.embeddings.sentence_transformer import SentenceTransformerEmbeddings\n",
    "from langchain.vectorstores import Chroma\n",
    "import pandas as pd\n",
    "import numpy as np\n",
    "import uuid\n",
    "import os"
   ]
  },
  {
   "cell_type": "markdown",
   "metadata": {},
   "source": [
    "# Prepare data from taxonomy for migration to ChromaDB"
   ]
  },
  {
   "cell_type": "markdown",
   "metadata": {},
   "source": [
    "Our final solution includes creating a vector database for storing IPTC category embeddings. Therefore, we migrate the embeddings of our IPTC taxonomy to ChromaDB."
   ]
  },
  {
   "cell_type": "markdown",
   "metadata": {},
   "source": [
    "First of all, we load the old taxonomy along with expanded taxonomy, created with the extended IPTC category descriptions"
   ]
  },
  {
   "cell_type": "code",
   "execution_count": 31,
   "metadata": {},
   "outputs": [],
   "source": [
    "taxonomy = pd.read_csv('data/taxonomy/taxonomy.csv', index_col=0)\n",
    "taxonomy_expanded = pd.read_csv('data/taxonomy/taxonomy_expanded.csv', index_col=0)"
   ]
  },
  {
   "cell_type": "markdown",
   "metadata": {},
   "source": [
    "In our vector database, we will keep the information about name, hierarchy and extended description of the IPTC category"
   ]
  },
  {
   "cell_type": "code",
   "execution_count": 98,
   "metadata": {},
   "outputs": [],
   "source": [
    "taxonomy_chroma = pd.DataFrame(index=taxonomy.index, columns=['name', 'hierarchy', 'final_description'])\n",
    "taxonomy_chroma[['name', 'hierarchy']] = taxonomy[['name', 'hierarchy']]\n",
    "# combine name and description\n",
    "taxonomy_chroma['final_description'] = 'Name: ' + taxonomy['name'] + '\\nDescription: ' + taxonomy['description']\n",
    "# for final_description in taxonomy_expanded, update taxonomy_chroma\n",
    "for index, row in taxonomy_expanded.iterrows():\n",
    "    taxonomy_chroma.loc[index, 'final_description'] = row['final_description']"
   ]
  },
  {
   "cell_type": "code",
   "execution_count": 100,
   "metadata": {},
   "outputs": [],
   "source": [
    "taxonomy_chroma.to_csv('data/taxonomy/taxonomy_chroma.csv')"
   ]
  },
  {
   "cell_type": "markdown",
   "metadata": {},
   "source": [
    "We prepare a metadata list (which will be used when migrating data from taxonomy to ChromaDB) out of all gathered information about our IPTC categories"
   ]
  },
  {
   "cell_type": "code",
   "execution_count": 111,
   "metadata": {},
   "outputs": [],
   "source": [
    "hierarchy = list(taxonomy_chroma['hierarchy'])\n",
    "name = list(taxonomy_chroma['name'])\n",
    "name_code = list(taxonomy_chroma.index)\n",
    "documents = list(taxonomy_chroma['final_description'])\n",
    "ids = [str(uuid.uuid4()) for _ in range(len(name))]\n",
    "\n",
    "metadata = {\n",
    "    'name': name,\n",
    "    'name_code': name_code,\n",
    "    'hierarchy': hierarchy\n",
    "}\n",
    "\n",
    "metadatas = [{k: v[i] for k, v in metadata.items()} for i in range(len(metadata['name']))]\n"
   ]
  },
  {
   "cell_type": "markdown",
   "metadata": {},
   "source": [
    "# Initialize chroma database"
   ]
  },
  {
   "cell_type": "markdown",
   "metadata": {},
   "source": [
    "Setup local chroma server by using command `chroma run --path ./chroma`"
   ]
  },
  {
   "cell_type": "code",
   "execution_count": 103,
   "metadata": {},
   "outputs": [
    {
     "name": "stderr",
     "output_type": "stream",
     "text": [
      "INFO:chromadb.telemetry.product.posthog:Anonymized telemetry enabled. See                     https://docs.trychroma.com/telemetry for more information.\n",
      "INFO:chromadb.telemetry.product.posthog:Anonymized telemetry enabled. See                     https://docs.trychroma.com/telemetry for more information.\n"
     ]
    }
   ],
   "source": [
    "client = chromadb.HttpClient(host='localhost', port=8000)"
   ]
  },
  {
   "cell_type": "markdown",
   "metadata": {},
   "source": [
    "Get embedding function from HuggingFace (you need to provide your HuggingFace API key)"
   ]
  },
  {
   "cell_type": "code",
   "execution_count": 84,
   "metadata": {},
   "outputs": [],
   "source": [
    "hugging_face_key = os.environ['HUGGING_FACE_KEY']\n",
    "\n",
    "huggingface_ef = embedding_functions.HuggingFaceEmbeddingFunction(\n",
    "    api_key=hugging_face_key,\n",
    "    model_name=\"sentence-transformers/all-MiniLM-L6-v2\"\n",
    ")"
   ]
  },
  {
   "cell_type": "markdown",
   "metadata": {},
   "source": [
    "Create vector database with IPTC top hierarchy embeddings"
   ]
  },
  {
   "cell_type": "code",
   "execution_count": 114,
   "metadata": {},
   "outputs": [],
   "source": [
    "collection = client.create_collection(\"vector_db\", embedding_function=huggingface_ef)\n",
    "collection.add(\n",
    "    ids = ids,\n",
    "    documents = documents,\n",
    "    metadatas = metadatas\n",
    ")"
   ]
  },
  {
   "cell_type": "markdown",
   "metadata": {},
   "source": [
    "Example query"
   ]
  },
  {
   "cell_type": "code",
   "execution_count": null,
   "metadata": {},
   "outputs": [],
   "source": [
    "collection.query(query_texts=[\"covid-19 - people die in hospital\"],\n",
    "                 n_results=1)"
   ]
  },
  {
   "cell_type": "markdown",
   "metadata": {},
   "source": [
    "Another example query with filtering over hierarchy = 1"
   ]
  },
  {
   "cell_type": "code",
   "execution_count": 122,
   "metadata": {},
   "outputs": [
    {
     "data": {
      "text/plain": [
       "{'ids': [['970caa29-7d80-46c0-8334-81baa7d322cf',\n",
       "   'deff917c-84d5-4d76-abb5-a16057f6f657']],\n",
       " 'distances': [[1.7081502676010132, 1.7603156566619873]],\n",
       " 'embeddings': None,\n",
       " 'metadatas': [[{'hierarchy': 1,\n",
       "    'name': 'disaster and accident',\n",
       "    'name_code': 'subj:03000000'},\n",
       "   {'hierarchy': 1, 'name': 'health', 'name_code': 'subj:07000000'}]],\n",
       " 'documents': [['Name: disaster and accident\\nDescription: Man made and natural events resulting in loss of life or injury to living creatures and/or damage to inanimate objects or property. \\nKeywords: earthquake, flood, hurricane, tsunami, tornado, wildfire, drought, volcanic eruption, avalanche, landslide, industrial accident, nuclear disaster, chemical spill, oil spill, radiation leak, explosion, structural collapse, mining disaster, transportation accident, airplane crash, train derailment, shipwreck, traffic collision, bridge failure, pipeline burst, electrical fire, gas leak explosion, terrorism, armed conflict, riot, building fire, dam failure, power outage, cyber attack, biohazard incident, genetic pollution, infrastructure failure, mass poisoning, food contamination, water contamination, air pollution incident, deforestation, habitat destruction, resource depletion, ecosystem collapse, extreme weather event, heatwave, cold snap, toxic waste dumping, sinkhole, pesticide spill, crowd crush, amusement park accident, workplace injury, school shooting, public health emergency, pandemic, epidemic, animal attack, mass extinction event, environmental disaster, radiological emergency, drone collision',\n",
       "   'Name: health\\nDescription: All aspects pertaining to the physical and mental welfare of human beings. \\nKeywords: wellness, fitness, nutrition, mental health, disease prevention, public health, healthcare, exercise, stress management, dietary habits, health policy, medical research, substance abuse, therapy, mindfulness, chronic illness, vaccinations, epidemiology, pediatrics, senior health, occupational safety, psychological wellbeing, preventive medicine, health education, sexual health, lifestyle diseases, maternal health, alternative medicine, health tech, health disparities, environmental health, health insurance, personal hygiene, pharmaceutical advancements, holistic health, emotional health, geriatrics, telemedicine, meditation, surgical innovations, reproductive health, addiction recovery, clinical trials, patient care, orthopedics, immunotherapy, cardiovascular health, neurology, oncology, gastrointestinal health, diabetes management, sports medicine, healthcare policies, physical therapy, dental health, vision care, audiology, skin care, ergonomics, obesity treatment, yoga and health, health informatics, antibiotic resistance, health innovation, health science, mobile health, natural remedies, health ethics, childhood obesity, endocrinology, aging and longevity, genetic disorders, sleep patterns, allergy and immunology, health regulations, mental resilience, pandemic response, viral outbreaks, health risk factors, health-aware consumerism, precision medicine, behavioral therapy, microbiome and health, health supplements, hormonal health, integrative health, health advocacy, community health, global health issues, infection control, biomedical engineering, radiology, health data analytics']],\n",
       " 'uris': None,\n",
       " 'data': None}"
      ]
     },
     "execution_count": 122,
     "metadata": {},
     "output_type": "execute_result"
    }
   ],
   "source": [
    "collection.query(query_texts=[\"covid-19 - people die in hospital\"],\n",
    "                 n_results=2,\n",
    "                 where={\"hierarchy\": 1})"
   ]
  },
  {
   "cell_type": "markdown",
   "metadata": {},
   "source": [
    "# *Optional: use Langchain"
   ]
  },
  {
   "cell_type": "code",
   "execution_count": 71,
   "metadata": {},
   "outputs": [
    {
     "name": "stderr",
     "output_type": "stream",
     "text": [
      "INFO:sentence_transformers.SentenceTransformer:Load pretrained SentenceTransformer: all-MiniLM-L6-v2\n",
      "INFO:sentence_transformers.SentenceTransformer:Use pytorch device: cpu\n"
     ]
    }
   ],
   "source": [
    "embedding_function = SentenceTransformerEmbeddings(model_name='all-MiniLM-L6-v2')\n",
    "\n",
    "db_langchain = Chroma(\n",
    "    client=client,\n",
    "    collection_name=\"all-MiniLM-L6-v2_DB\",\n",
    "    embedding_function=embedding_function,\n",
    ")"
   ]
  },
  {
   "cell_type": "code",
   "execution_count": 74,
   "metadata": {},
   "outputs": [
    {
     "name": "stderr",
     "output_type": "stream",
     "text": [
      "Batches: 100%|██████████| 1/1 [00:00<00:00, 29.83it/s]\n"
     ]
    }
   ],
   "source": [
    "query = \"John doe killed 2 people in a car crash\"\n",
    "docs = db_langchain.similarity_search(query)"
   ]
  }
 ],
 "metadata": {
  "kernelspec": {
   "display_name": "nlp-venv",
   "language": "python",
   "name": "python3"
  },
  "language_info": {
   "codemirror_mode": {
    "name": "ipython",
    "version": 3
   },
   "file_extension": ".py",
   "mimetype": "text/x-python",
   "name": "python",
   "nbconvert_exporter": "python",
   "pygments_lexer": "ipython3",
   "version": "3.10.7"
  }
 },
 "nbformat": 4,
 "nbformat_minor": 2
}
