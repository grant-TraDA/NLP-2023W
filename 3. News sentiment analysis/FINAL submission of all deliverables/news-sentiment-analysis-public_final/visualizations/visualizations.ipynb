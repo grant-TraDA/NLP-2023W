{
 "cells": [
  {
   "cell_type": "markdown",
   "source": [
    "# Visualizations - examples"
   ],
   "metadata": {
    "collapsed": false
   },
   "id": "efc757d807adfb9b"
  },
  {
   "cell_type": "code",
   "execution_count": null,
   "outputs": [],
   "source": [
    "import pandas as pd\n",
    "from lib.sentiment_analysis_utils import (\n",
    "    convert_to_only_best_sentiment,\n",
    "    correct_literals,\n",
    ")\n",
    "from visualizations import (\n",
    "    plot_sentiment_barplot,\n",
    "    plot_aspect_sentiment_barplot,\n",
    "    plot_sentiment_over_time,\n",
    ")\n",
    "from matplotlib import pyplot as plt"
   ],
   "metadata": {
    "collapsed": false,
    "ExecuteTime": {
     "end_time": "2024-02-03T11:54:19.799940Z",
     "start_time": "2024-02-03T11:54:19.602487Z"
    }
   },
   "id": "bfc71a2069945444"
  },
  {
   "cell_type": "code",
   "execution_count": null,
   "outputs": [],
   "source": [
    "df = pd.read_csv(\n",
    "    \"whole_dataset_results_absa_1600.csv\"\n",
    ")  # A file with 1600 articles predicted, not put in files due to NDA\n",
    "df = correct_literals(df)\n",
    "df = convert_to_only_best_sentiment(df)"
   ],
   "metadata": {
    "collapsed": false,
    "ExecuteTime": {
     "end_time": "2024-02-03T11:53:41.465462Z",
     "start_time": "2024-02-03T11:53:37.734379Z"
    }
   },
   "id": "ca95076074e80a60"
  },
  {
   "cell_type": "markdown",
   "source": [
    "## Sentiment by keywords (available in STA API)\n",
    "\n",
    "There are top 10 keywords selected (based on number of appearances in all articles within the loaded dataframe). We calculate aspect based sentiment for these keywords (so it's not the same as overall article's sentiment). We can observe that topics such as press, government, or minister are negative much more often than others keywords."
   ],
   "metadata": {
    "collapsed": false
   },
   "id": "b94d5c94c7044fc1"
  },
  {
   "cell_type": "code",
   "execution_count": null,
   "outputs": [],
   "source": [
    "plot_aspect_sentiment_barplot(\n",
    "    df, percentage=True, by_column=\"keywords_sentiment\", top_n=10, top_based_on=\"sum\"\n",
    ")\n",
    "plt.rcParams[\"axes.labelpad\"] = 5\n",
    "plt.ylabel(\"Keyword\", fontsize=12)\n",
    "plt.rcParams[\"axes.titlepad\"] = 30\n",
    "plt.title(\n",
    "    \"Percentage distribution of aspect-based sentiment for the most common keywords\",\n",
    "    fontsize=14,\n",
    ")\n",
    "plt.show()"
   ],
   "metadata": {
    "collapsed": false,
    "ExecuteTime": {
     "end_time": "2024-02-03T14:29:20.825365Z",
     "start_time": "2024-02-03T14:29:20.528647Z"
    }
   },
   "id": "50aff42a67d336fd"
  },
  {
   "cell_type": "markdown",
   "source": [
    "Here is plot presenting the same data, but using numbers of articles instead of percentages."
   ],
   "metadata": {
    "collapsed": false
   },
   "id": "3e435ac919f9cfff"
  },
  {
   "cell_type": "code",
   "execution_count": null,
   "outputs": [],
   "source": [
    "plot_aspect_sentiment_barplot(\n",
    "    df, percentage=False, by_column=\"keywords_sentiment\", top_n=10, top_based_on=\"sum\"\n",
    ")\n",
    "plt.rcParams[\"axes.labelpad\"] = 5\n",
    "plt.ylabel(\"Keyword\", fontsize=12)\n",
    "plt.xlabel(\"Number of occurrences in news\", fontsize=12)\n",
    "plt.rcParams[\"axes.titlepad\"] = 30\n",
    "plt.title(\"Aspect-based sentiment of the most common keywords\", fontsize=14)\n",
    "plt.show()"
   ],
   "metadata": {
    "collapsed": false,
    "ExecuteTime": {
     "end_time": "2024-02-03T14:25:45.680358Z",
     "start_time": "2024-02-03T14:25:45.271914Z"
    }
   },
   "id": "e1a7cc795a9c5d3d"
  },
  {
   "cell_type": "markdown",
   "source": [
    "It is also possible to select top keywords based on their negativity (or neutrality, or possibility) - it can be done based on number of articles or percentages. Plot below shows sentiment across keywords that are most often negative (but taking into account only these keywords that appeared at least 5 times in news)."
   ],
   "metadata": {
    "collapsed": false
   },
   "id": "2a2dd3dbbd7dddba"
  },
  {
   "cell_type": "code",
   "execution_count": null,
   "outputs": [],
   "source": [
    "plot_aspect_sentiment_barplot(\n",
    "    df,\n",
    "    percentage=False,\n",
    "    by_column=\"keywords_sentiment\",\n",
    "    top_n=8,\n",
    "    top_based_on=0,\n",
    "    based_on_percentage=True,\n",
    "    min_n_to_consider=5,\n",
    ")\n",
    "plt.rcParams[\"axes.labelpad\"] = 12\n",
    "plt.ylabel(\"Keyword\", fontsize=12)\n",
    "plt.xlabel(\"Number of occurrences in news\", fontsize=12)\n",
    "plt.rcParams[\"axes.titlepad\"] = 30\n",
    "plt.title(\"Aspect-based sentiment of the most negative keywords\", fontsize=14)\n",
    "plt.show()"
   ],
   "metadata": {
    "collapsed": false,
    "ExecuteTime": {
     "end_time": "2024-02-03T14:26:32.940106Z",
     "start_time": "2024-02-03T14:26:32.444723Z"
    }
   },
   "id": "8d5d5cb5b445dd3e"
  },
  {
   "cell_type": "markdown",
   "source": [
    "Below is the same type of plot, but for keywords that were mostly positive."
   ],
   "metadata": {
    "collapsed": false
   },
   "id": "44fa4f04fa785289"
  },
  {
   "cell_type": "code",
   "execution_count": null,
   "outputs": [],
   "source": [
    "plot_aspect_sentiment_barplot(\n",
    "    df,\n",
    "    percentage=False,\n",
    "    by_column=\"keywords_sentiment\",\n",
    "    top_n=8,\n",
    "    top_based_on=2,\n",
    "    based_on_percentage=True,\n",
    "    min_n_to_consider=5,\n",
    ")\n",
    "plt.rcParams[\"axes.labelpad\"] = 12\n",
    "plt.ylabel(\"Keyword\", fontsize=12)\n",
    "plt.xlabel(\"Number of occurrences in news\", fontsize=12)\n",
    "plt.rcParams[\"axes.titlepad\"] = 30\n",
    "plt.title(\"Aspect-based sentiment of the most positive keywords\", fontsize=14)\n",
    "plt.show()"
   ],
   "metadata": {
    "collapsed": false,
    "ExecuteTime": {
     "end_time": "2024-02-03T14:26:46.661997Z",
     "start_time": "2024-02-03T14:26:45.945066Z"
    }
   },
   "id": "c244485ef9896e97"
  },
  {
   "cell_type": "markdown",
   "source": [
    "## Sentiment by found named entities\n",
    "\n",
    "Here are plots that present most common NER among English news, and aspect based sentiment predicted for these entities. We select only top 10 most common entities, but it can be changed with *top_n* parameter."
   ],
   "metadata": {
    "collapsed": false
   },
   "id": "3696bc92136b83b8"
  },
  {
   "cell_type": "code",
   "execution_count": null,
   "outputs": [],
   "source": [
    "plot_aspect_sentiment_barplot(\n",
    "    df, percentage=False, by_column=\"ner_sentiment\", top_n=10, top_based_on=\"sum\"\n",
    ")\n",
    "plt.rcParams[\"axes.labelpad\"] = 12\n",
    "plt.ylabel(\"Entity\", fontsize=12)\n",
    "plt.xlabel(\"Number of occurrences in news\", fontsize=12)\n",
    "plt.rcParams[\"axes.titlepad\"] = 30\n",
    "plt.title(\"Aspect-based sentiment of the most common entities\", fontsize=14)\n",
    "plt.show()"
   ],
   "metadata": {
    "collapsed": false,
    "ExecuteTime": {
     "end_time": "2024-02-03T14:27:35.203341Z",
     "start_time": "2024-02-03T14:27:34.476321Z"
    }
   },
   "id": "9dae45eaed5c8d48"
  },
  {
   "cell_type": "markdown",
   "source": [
    "Here are presented the same data, but with percentages instead of numbers."
   ],
   "metadata": {
    "collapsed": false
   },
   "id": "4b1e20f3ad17789d"
  },
  {
   "cell_type": "code",
   "execution_count": null,
   "outputs": [],
   "source": [
    "plot_aspect_sentiment_barplot(\n",
    "    df, percentage=True, by_column=\"ner_sentiment\", top_n=10, top_based_on=\"sum\"\n",
    ")\n",
    "plt.rcParams[\"axes.labelpad\"] = 12\n",
    "plt.ylabel(\"Entity\", fontsize=12)\n",
    "plt.rcParams[\"axes.titlepad\"] = 30\n",
    "plt.title(\n",
    "    \"Percentage distribution of aspect-based sentiment for the most common entities\",\n",
    "    fontsize=14,\n",
    ")\n",
    "plt.show()"
   ],
   "metadata": {
    "collapsed": false,
    "ExecuteTime": {
     "end_time": "2024-02-03T14:28:02.613034Z",
     "start_time": "2024-02-03T14:28:02.083363Z"
    }
   },
   "id": "c3bd5ff659fc2aeb"
  },
  {
   "cell_type": "code",
   "execution_count": null,
   "outputs": [],
   "source": [
    "df = pd.read_csv(\n",
    "    \"full_dataseet_overall_sentiment_twitter-roberta.csv\"\n",
    ")  # Again, we do not share the file as it contains sensitive data\n",
    "sentiment_column_name = \"overall_sentiment_twitter-roberta\"\n",
    "# sentiment_column_name = \"overall_sentiment\"\n",
    "df = correct_literals(df)\n",
    "df[\"sentiment\"] = None\n",
    "df.loc[df[sentiment_column_name] == 0, \"sentiment\"] = \"Negative\"\n",
    "df.loc[df[sentiment_column_name] == 1, \"sentiment\"] = \"Neutral\"\n",
    "df.loc[df[sentiment_column_name] == 2, \"sentiment\"] = \"Positive\""
   ],
   "metadata": {
    "collapsed": false,
    "ExecuteTime": {
     "end_time": "2024-02-03T14:34:27.440652Z",
     "start_time": "2024-02-03T14:34:26.637558Z"
    }
   },
   "id": "5ef20647c8cf6ad5"
  },
  {
   "cell_type": "markdown",
   "source": [
    "We predict overall articles' sentiments and group it by categories. We can observe, which categories are more negative, and which are more positive or neutral. "
   ],
   "metadata": {
    "collapsed": false
   },
   "id": "fa2ed164d5b85a3d"
  },
  {
   "cell_type": "code",
   "execution_count": null,
   "outputs": [],
   "source": [
    "plot_sentiment_barplot(df, by_column=\"categories\", percentage=False, top_n=8)\n",
    "plt.rcParams[\"axes.labelpad\"] = 12\n",
    "plt.ylabel(\"Category\", fontsize=12)\n",
    "plt.xlabel(\"Number of news\", fontsize=12)\n",
    "plt.rcParams[\"axes.titlepad\"] = 30\n",
    "plt.title(\"Document-based sentiment by news category\", fontsize=14)\n",
    "plt.show()"
   ],
   "metadata": {
    "collapsed": false,
    "ExecuteTime": {
     "end_time": "2024-02-03T14:34:29.192258Z",
     "start_time": "2024-02-03T14:34:28.836818Z"
    }
   },
   "id": "6df11307b504e1f6"
  },
  {
   "cell_type": "markdown",
   "source": [
    "It can also be plotted with percentages, we limit here for top 8 categories due to very low number of Advisory news in our dataframe."
   ],
   "metadata": {
    "collapsed": false
   },
   "id": "3c6b32fb7c3577fc"
  },
  {
   "cell_type": "code",
   "execution_count": null,
   "outputs": [],
   "source": [
    "plot_sentiment_barplot(df, by_column=\"categories\", percentage=True, top_n=8)\n",
    "plt.rcParams[\"axes.labelpad\"] = 12\n",
    "plt.ylabel(\"Category\", fontsize=12)\n",
    "plt.rcParams[\"axes.titlepad\"] = 30\n",
    "plt.title(\n",
    "    \"Percentage distribution of document-based sentiment by news category\", fontsize=14\n",
    ")\n",
    "plt.show()"
   ],
   "metadata": {
    "collapsed": false,
    "ExecuteTime": {
     "end_time": "2024-02-03T14:45:54.016230Z",
     "start_time": "2024-02-03T14:45:53.660585Z"
    }
   },
   "id": "580111a3928e9af5"
  },
  {
   "cell_type": "markdown",
   "source": [
    "We can also see which authors put sentiments in their news by using byline data from STA API. We won't share the result of such data here, as it might be sensitive. One can run it by loading appropriate dataframe (only if you have access to STA data) and uncommenting the line below."
   ],
   "metadata": {
    "collapsed": false
   },
   "id": "dc95bb89b798f4ca"
  },
  {
   "cell_type": "code",
   "execution_count": null,
   "outputs": [],
   "source": [
    "# plot_sentiment_barplot(df, by_column=\"byline\", percentage=False, top_n=10)"
   ],
   "metadata": {
    "collapsed": false,
    "ExecuteTime": {
     "end_time": "2024-01-17T05:42:35.453847Z",
     "start_time": "2024-01-17T05:42:35.443490Z"
    }
   },
   "id": "aadbed964cf393bf"
  },
  {
   "cell_type": "code",
   "execution_count": null,
   "outputs": [],
   "source": [
    "df = df.loc[df[\"sentiment\"].notna()]"
   ],
   "metadata": {
    "collapsed": false,
    "ExecuteTime": {
     "end_time": "2024-01-17T05:42:36.317028Z",
     "start_time": "2024-01-17T05:42:36.290380Z"
    }
   },
   "id": "4d7152795872d400"
  },
  {
   "cell_type": "markdown",
   "source": [
    "Another possibility with our solution is monitoring how sentiment changes over the time. As previously, you can specify if you want to see the numbers of articles or percentages of negatives vs positives. The plot below shows the numbers of articles by sentiment within given time period."
   ],
   "metadata": {
    "collapsed": false
   },
   "id": "d5c5b87ed7db8d9d"
  },
  {
   "cell_type": "code",
   "execution_count": null,
   "outputs": [],
   "source": [
    "plot_sentiment_over_time(\n",
    "    df,\n",
    "    interval_len=2,\n",
    "    percentage=False,\n",
    "    cut_last_interval=False,\n",
    "    sentiments=[\"Negative\", \"Neutral\", \"Positive\"],\n",
    ")"
   ],
   "metadata": {
    "collapsed": false,
    "ExecuteTime": {
     "end_time": "2024-01-17T05:42:48.366736Z",
     "start_time": "2024-01-17T05:42:47.369702Z"
    }
   },
   "id": "8adda637399f1329"
  },
  {
   "cell_type": "markdown",
   "source": [
    "It is possible to specify length of time interval in every \"bucket\" by *interval_len* parameter. Here, we change it to bigger number and change numbers to percentages."
   ],
   "metadata": {
    "collapsed": false
   },
   "id": "c63d62a385c3d8f"
  },
  {
   "cell_type": "code",
   "execution_count": null,
   "outputs": [],
   "source": [
    "plot_sentiment_over_time(\n",
    "    df,\n",
    "    interval_len=4,\n",
    "    percentage=True,\n",
    "    cut_last_interval=True,\n",
    "    sentiments=[\"Negative\", \"Neutral\", \"Positive\"],\n",
    ")\n",
    "plt.rcParams[\"axes.labelpad\"] = 12\n",
    "plt.ylabel(\"Percentage\", fontsize=12)\n",
    "plt.rcParams[\"axes.titlepad\"] = 30\n",
    "plt.title(\n",
    "    \"Percentage distribution of document-based sentiment over the time\", fontsize=14\n",
    ")\n",
    "plt.show()"
   ],
   "metadata": {
    "collapsed": false,
    "ExecuteTime": {
     "end_time": "2024-02-03T14:40:13.669280Z",
     "start_time": "2024-02-03T14:40:13.361364Z"
    }
   },
   "id": "ed6ba0c3733c637"
  },
  {
   "cell_type": "code",
   "execution_count": null,
   "outputs": [],
   "source": [
    "plot_sentiment_over_time(\n",
    "    df,\n",
    "    interval_len=4,\n",
    "    percentage=False,\n",
    "    cut_last_interval=True,\n",
    "    sentiments=[\"Negative\", \"Neutral\", \"Positive\"],\n",
    ")\n",
    "plt.rcParams[\"axes.labelpad\"] = 12\n",
    "plt.ylabel(\"Number of news\", fontsize=12)\n",
    "plt.rcParams[\"axes.titlepad\"] = 30\n",
    "plt.title(\"Number of news by their overall sentiment over the time\", fontsize=14)\n",
    "plt.show()"
   ],
   "metadata": {
    "collapsed": false,
    "ExecuteTime": {
     "end_time": "2024-02-03T14:40:18.157299Z",
     "start_time": "2024-02-03T14:40:17.579774Z"
    }
   },
   "id": "f2620064c6d1e17e"
  }
 ],
 "metadata": {
  "kernelspec": {
   "display_name": "Python 3",
   "language": "python",
   "name": "python3"
  },
  "language_info": {
   "codemirror_mode": {
    "name": "ipython",
    "version": 2
   },
   "file_extension": ".py",
   "mimetype": "text/x-python",
   "name": "python",
   "nbconvert_exporter": "python",
   "pygments_lexer": "ipython2",
   "version": "2.7.6"
  }
 },
 "nbformat": 4,
 "nbformat_minor": 5
}
