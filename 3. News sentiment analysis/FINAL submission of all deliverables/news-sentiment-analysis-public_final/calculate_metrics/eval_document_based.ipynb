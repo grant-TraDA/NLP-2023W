{
 "cells": [
  {
   "cell_type": "markdown",
   "source": [
    "# Notebook for quantitative evaluation of document and aspect based sentiment analysis using labels assigned manually to articles."
   ],
   "metadata": {
    "collapsed": false
   }
  },
  {
   "cell_type": "markdown",
   "source": [
    "This prepares confusion matrices."
   ],
   "metadata": {
    "collapsed": false
   }
  },
  {
   "cell_type": "markdown",
   "source": [
    "### Imports"
   ],
   "metadata": {
    "collapsed": false
   }
  },
  {
   "cell_type": "code",
   "execution_count": null,
   "metadata": {
    "collapsed": true
   },
   "outputs": [],
   "source": [
    "import numpy as np\n",
    "import pandas as pd\n",
    "import os\n",
    "import ast"
   ]
  },
  {
   "cell_type": "markdown",
   "source": [
    "# Evaluation of Document Based Sentiment Analysis"
   ],
   "metadata": {
    "collapsed": false
   }
  },
  {
   "cell_type": "markdown",
   "source": [
    "### Read data"
   ],
   "metadata": {
    "collapsed": false
   }
  },
  {
   "cell_type": "markdown",
   "source": [
    "You might need to specify the directory."
   ],
   "metadata": {
    "collapsed": false
   }
  },
  {
   "cell_type": "markdown",
   "source": [
    "\"siebert-roberta\"\n",
    "\n",
    "\"financial-bert\"\n",
    "\n",
    "\"auditor_sentiment\"\n",
    "\n",
    "\"twitter-roberta\"\n",
    "\n",
    "\"financial-roberta\""
   ],
   "metadata": {
    "collapsed": false
   }
  },
  {
   "cell_type": "code",
   "execution_count": null,
   "outputs": [],
   "source": [
    "document_based = True#False\n",
    "model_suffix = 'financial-roberta'#'financial-bert'#'deberta'\n",
    "#'siebert-roberta'\n",
    "#'document_based_sentiment_analysis'#\n",
    "results_directory_name = 'document_based_sentiment_analysis'#'aspect_based_sentiment_analysis\\\\test_predicitons_few_models'\n",
    "#'aspect_based_sentiment_analysis\\\\test_predicitons_few_models'\n",
    "#f'full_dataseet_overall_sentiment_{model_suffix}.csv'#\n",
    "results_file_name = f'full_dataseet_overall_sentiment_{model_suffix}.csv'#f'testset_extended_results_absa_{model_suffix}.csv'\n",
    "folder_with_labels = 'extended_test_labels'\n",
    "confusion_matrix_folder = 'confusion_matrices'"
   ],
   "metadata": {
    "collapsed": false
   }
  },
  {
   "cell_type": "code",
   "execution_count": null,
   "outputs": [],
   "source": [
    "df_test_absa_model = pd.read_csv(os.path.join('..', results_directory_name,  results_file_name))#,"
   ],
   "metadata": {
    "collapsed": false
   }
  },
  {
   "cell_type": "code",
   "execution_count": null,
   "outputs": [],
   "source": [
    "df_test_absa_model"
   ],
   "metadata": {
    "collapsed": false
   }
  },
  {
   "cell_type": "markdown",
   "source": [
    "The chunk of code below assigns to each article a class based od model output."
   ],
   "metadata": {
    "collapsed": false
   }
  },
  {
   "cell_type": "code",
   "execution_count": null,
   "outputs": [],
   "source": [
    "results_dict = {}\n",
    "if document_based:\n",
    "    results_doc_model = {}\n",
    "    for i, row in df_test_absa_model.iterrows():\n",
    "\n",
    "        results_dict[row['Unnamed: 0']] = {'overall': int(row.overall_sentiment_name)}\n",
    "\n",
    "else:\n",
    "\n",
    "\n",
    "    for i, row in df_test_absa_model.iterrows():\n",
    "        keywords = ast.literal_eval(row.keywords_sentiment)[0]\n",
    "        ners = ast.literal_eval(row.ner_sentiment)[0]\n",
    "        #keywords = [keyword.strip() for keyword in keywords]\n",
    "\n",
    "        aspects = keywords | ners\n",
    "\n",
    "        label = None\n",
    "        score = -1\n",
    "        results = {}\n",
    "        for aspect in aspects.keys():\n",
    "            #print(aspect)\n",
    "            #print(aspects[aspect][0])\n",
    "            for l in aspects[aspect][0]:\n",
    "                if l['score'] > score:\n",
    "                    score = l['score']\n",
    "                    label = l['label']\n",
    "            #numeric_label = None\n",
    "            if label == 'Negative':\n",
    "                numeric_label = -1\n",
    "            elif label == 'Neutral':\n",
    "                numeric_label = 0\n",
    "            else:\n",
    "                numeric_label = 1\n",
    "            results[aspect] = numeric_label\n",
    "\n",
    "        results_dict[row['Unnamed: 0']] = (results)\n"
   ],
   "metadata": {
    "collapsed": false
   }
  },
  {
   "cell_type": "code",
   "execution_count": null,
   "outputs": [],
   "source": [
    "results_dict"
   ],
   "metadata": {
    "collapsed": false
   }
  },
  {
   "cell_type": "code",
   "execution_count": null,
   "outputs": [],
   "source": [
    "#results_dict"
   ],
   "metadata": {
    "collapsed": false
   }
  },
  {
   "cell_type": "code",
   "execution_count": null,
   "outputs": [],
   "source": [
    "df_test_absa_model"
   ],
   "metadata": {
    "collapsed": false
   }
  },
  {
   "cell_type": "markdown",
   "source": [
    "The chunk of code below reads the data from files filled by annotators. This will be treated as ground truth and evaluated against it."
   ],
   "metadata": {
    "collapsed": false
   }
  },
  {
   "cell_type": "code",
   "execution_count": null,
   "outputs": [],
   "source": [
    "df_test_annotated = pd.DataFrame()\n",
    "for file in os.listdir(f'./{folder_with_labels}'):\n",
    "    df_test_annotated = pd.concat([df_test_annotated, pd.read_excel(f'./{folder_with_labels}' + '/' +file)])\n",
    "print(df_test_annotated)"
   ],
   "metadata": {
    "collapsed": false
   }
  },
  {
   "cell_type": "code",
   "execution_count": null,
   "outputs": [],
   "source": [
    "df_test_annotated"
   ],
   "metadata": {
    "collapsed": false
   }
  },
  {
   "cell_type": "markdown",
   "source": [
    "Code below is responsible for parsing the text from files prepared by labelers."
   ],
   "metadata": {
    "collapsed": false
   }
  },
  {
   "cell_type": "code",
   "execution_count": null,
   "outputs": [],
   "source": [
    "results_annotation = {}\n",
    "results_annotation_overall = {}\n",
    "for i, row in df_test_annotated.iterrows():\n",
    "    keywords = ast.literal_eval(row.keywords_lower)\n",
    "    ners = ast.literal_eval(row.ner_list)\n",
    "\n",
    "    aspects = keywords + ners\n",
    "\n",
    "    results = {}\n",
    "    for aspect in aspects:\n",
    "        results[aspect.split(':')[0]] = aspect.split(':')[1] if ':' in aspect else None\n",
    "\n",
    "    results_annotation[row['Unnamed: 0']] = (results)\n",
    "\n",
    "    if pd.notnull(row.overall):\n",
    "        results_annotation_overall[row['Unnamed: 0']] = {'overall': str(int(row.overall))}\n",
    "    else:\n",
    "        results_annotation_overall[row['Unnamed: 0']] = {'overall': None}\n"
   ],
   "metadata": {
    "collapsed": false
   }
  },
  {
   "cell_type": "code",
   "execution_count": null,
   "outputs": [],
   "source": [
    "results_annotation_overall"
   ],
   "metadata": {
    "collapsed": false
   }
  },
  {
   "cell_type": "code",
   "execution_count": null,
   "outputs": [],
   "source": [
    "results_annotation"
   ],
   "metadata": {
    "collapsed": false
   }
  },
  {
   "cell_type": "code",
   "execution_count": null,
   "outputs": [],
   "source": [
    "results_dict"
   ],
   "metadata": {
    "collapsed": false
   }
  },
  {
   "cell_type": "code",
   "execution_count": null,
   "outputs": [],
   "source": [
    "def eval_class_1_vs_0(annotated, pred, tp, fp, fn, tn):\n",
    "\n",
    "    if annotated == '1' and pred == 1:\n",
    "        tp += 1\n",
    "    if annotated == '1' and pred == 0:\n",
    "        fn += 1\n",
    "    if annotated == '0' and pred == 1:\n",
    "        fp += 1\n",
    "    if annotated == '0' and pred == 0:\n",
    "        tn += 1\n",
    "\n",
    "    return tp, fp, fn, tn\n",
    "\n",
    "def eval_class_1_vs_min1(annotated, pred, tp, fp, fn, tn):\n",
    "\n",
    "    if annotated == '1' and pred == 1:\n",
    "        tp += 1\n",
    "    if annotated == '1' and pred == -1:\n",
    "        fn += 1\n",
    "    if annotated == '-1' and pred == 1:\n",
    "        fp += 1\n",
    "    if annotated == '-1' and pred == -1:\n",
    "        tn += 1\n",
    "\n",
    "    return tp, fp, fn, tn\n",
    "\n",
    "def eval_class_0_vs_min1(annotated, pred, tp, fp, fn, tn):\n",
    "\n",
    "    if annotated == '0' and pred == 0:\n",
    "        tp += 1\n",
    "    if annotated == '0' and pred == -1:\n",
    "        fn += 1\n",
    "    if annotated == '-1' and pred == 0:\n",
    "        fp += 1\n",
    "    if annotated == '-1' and pred == -1:\n",
    "        tn += 1\n",
    "\n",
    "    return tp, fp, fn, tn"
   ],
   "metadata": {
    "collapsed": false
   }
  },
  {
   "cell_type": "code",
   "execution_count": null,
   "outputs": [],
   "source": [
    "def eval_core(results_dict, compare_with, type, document_based):\n",
    "    tp = 0\n",
    "    fp = 0\n",
    "    fn = 0\n",
    "    tn = 0\n",
    "\n",
    "    for i in results_dict.keys():\n",
    "        for j in results_dict[i].keys():\n",
    "            try:\n",
    "                if compare_with[i][j] is None:# or pd.isna(compare_with[i][j]):\n",
    "                    continue\n",
    "            except Exception as e:\n",
    "                print(e)\n",
    "                continue\n",
    "\n",
    "            #print(compare_with[i][j], results_dict[i][j])\n",
    "            #print()\n",
    "            predicted_label = results_dict[i][j]\n",
    "            if document_based == True:\n",
    "                predicted_label = predicted_label - 1\n",
    "\n",
    "            if type == '1vs0':\n",
    "                tp, fp, fn, tn = eval_class_1_vs_0(compare_with[i][j], predicted_label, tp, fp, fn, tn)\n",
    "            elif type == '1vsmin1':\n",
    "                tp, fp, fn, tn = eval_class_1_vs_min1(compare_with[i][j], predicted_label, tp, fp, fn, tn)\n",
    "            elif type == '0vsmin1':\n",
    "                tp, fp, fn, tn = eval_class_0_vs_min1(compare_with[i][j], predicted_label, tp, fp, fn, tn)\n",
    "\n",
    "\n",
    "    return tp, fp, fn, tn"
   ],
   "metadata": {
    "collapsed": false
   }
  },
  {
   "cell_type": "code",
   "execution_count": null,
   "outputs": [],
   "source": [
    "cm = np.empty((3,3,))\n",
    "cm[:] = np.nan"
   ],
   "metadata": {
    "collapsed": false
   }
  },
  {
   "cell_type": "code",
   "execution_count": null,
   "outputs": [],
   "source": [
    "cm"
   ],
   "metadata": {
    "collapsed": false
   }
  },
  {
   "cell_type": "code",
   "execution_count": null,
   "outputs": [],
   "source": [
    "compare_with = results_annotation_overall"
   ],
   "metadata": {
    "collapsed": false
   }
  },
  {
   "cell_type": "code",
   "execution_count": null,
   "outputs": [],
   "source": [
    "tp, fp, fn, tn = eval_core(results_dict, compare_with, '1vs0', document_based)\n",
    "print(tp, fp, fn, tn)"
   ],
   "metadata": {
    "collapsed": false
   }
  },
  {
   "cell_type": "code",
   "execution_count": null,
   "outputs": [],
   "source": [
    "cm[0,0], cm[0,1], cm[1,0], cm[1,1] = tp, fp, fn, tn\n",
    "print(cm)"
   ],
   "metadata": {
    "collapsed": false
   }
  },
  {
   "cell_type": "code",
   "execution_count": null,
   "outputs": [],
   "source": [
    "tp, fp, fn, tn = eval_core(results_dict, compare_with, '1vsmin1', document_based)\n",
    "print(tp, fp, fn, tn)"
   ],
   "metadata": {
    "collapsed": false
   }
  },
  {
   "cell_type": "code",
   "execution_count": null,
   "outputs": [],
   "source": [
    "cm[0,0], cm[0,2], cm[2,0], cm[2,2] = tp, fp, fn, tn\n",
    "print(cm)"
   ],
   "metadata": {
    "collapsed": false
   }
  },
  {
   "cell_type": "code",
   "execution_count": null,
   "outputs": [],
   "source": [
    "tp, fp, fn, tn = eval_core(results_dict, compare_with, '0vsmin1', document_based)\n",
    "print(tp, fp, fn, tn)"
   ],
   "metadata": {
    "collapsed": false
   }
  },
  {
   "cell_type": "code",
   "execution_count": null,
   "outputs": [],
   "source": [
    "cm[1,1], cm[1,2], cm[2,1], cm[2,2] = tp, fp, fn, tn\n",
    "print(cm)"
   ],
   "metadata": {
    "collapsed": false
   }
  },
  {
   "cell_type": "code",
   "execution_count": null,
   "outputs": [],
   "source": [
    "with open(f'{confusion_matrix_folder}/{model_suffix}.npy', 'wb') as f:\n",
    "    np.save(f, cm)"
   ],
   "metadata": {
    "collapsed": false
   }
  },
  {
   "cell_type": "code",
   "execution_count": null,
   "outputs": [],
   "source": [
    "np.load(f'{confusion_matrix_folder}/{model_suffix}.npy')"
   ],
   "metadata": {
    "collapsed": false
   }
  },
  {
   "cell_type": "code",
   "execution_count": null,
   "outputs": [],
   "source": [],
   "metadata": {
    "collapsed": false
   }
  },
  {
   "cell_type": "code",
   "execution_count": null,
   "outputs": [],
   "source": [],
   "metadata": {
    "collapsed": false
   }
  },
  {
   "cell_type": "code",
   "execution_count": null,
   "outputs": [],
   "source": [],
   "metadata": {
    "collapsed": false
   }
  }
 ],
 "metadata": {
  "kernelspec": {
   "display_name": "Python 3",
   "language": "python",
   "name": "python3"
  },
  "language_info": {
   "codemirror_mode": {
    "name": "ipython",
    "version": 2
   },
   "file_extension": ".py",
   "mimetype": "text/x-python",
   "name": "python",
   "nbconvert_exporter": "python",
   "pygments_lexer": "ipython2",
   "version": "2.7.6"
  }
 },
 "nbformat": 4,
 "nbformat_minor": 0
}
