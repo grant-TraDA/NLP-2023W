{
 "cells": [
  {
   "cell_type": "code",
   "execution_count": null,
   "metadata": {
    "collapsed": true,
    "ExecuteTime": {
     "end_time": "2024-02-07T19:18:55.795794Z",
     "start_time": "2024-02-07T19:18:55.420605Z"
    }
   },
   "outputs": [],
   "source": [
    "import numpy as np\n",
    "import pandas as pd\n",
    "import matplotlib.pyplot as plt\n",
    "from sklearn.metrics import ConfusionMatrixDisplay"
   ]
  },
  {
   "cell_type": "code",
   "execution_count": null,
   "outputs": [],
   "source": [
    "def calculate_f1_score(conf_matrix):\n",
    "    num_classes = len(conf_matrix)\n",
    "    f1_scores = []\n",
    "\n",
    "    for i in range(num_classes):\n",
    "        tp = conf_matrix[i, i]\n",
    "        fp = np.sum(conf_matrix[:, i]) - tp\n",
    "        fn = np.sum(conf_matrix[i, :]) - tp\n",
    "\n",
    "        precision = tp / (tp + fp) if (tp + fp) > 0 else 0\n",
    "        recall = tp / (tp + fn) if (tp + fn) > 0 else 0\n",
    "\n",
    "        f1 = 2 * (precision * recall) / (precision + recall) if (precision + recall) > 0 else 0\n",
    "        f1_scores.append(f1)\n",
    "\n",
    "    return f1_scores\n",
    "\n",
    "def calculate_micro_f1(conf_matrix):\n",
    "    # Calculate aggregated values\n",
    "    tp_total = np.sum(np.diag(conf_matrix))\n",
    "    fp_total = np.sum(conf_matrix, axis=0) - np.diag(conf_matrix)\n",
    "    fn_total = np.sum(conf_matrix, axis=1) - np.diag(conf_matrix)\n",
    "\n",
    "    # Compute micro-averaged precision, recall, and F1 score\n",
    "    precision_micro = tp_total / (tp_total + np.sum(fp_total))\n",
    "    recall_micro = tp_total / (tp_total + np.sum(fn_total))\n",
    "    f1_micro = 2 * (precision_micro * recall_micro) / (precision_micro + recall_micro) if (precision_micro + recall_micro) > 0 else 0\n",
    "\n",
    "    return f1_micro\n"
   ],
   "metadata": {
    "collapsed": false,
    "ExecuteTime": {
     "end_time": "2024-02-07T19:18:55.797866Z",
     "start_time": "2024-02-07T19:18:55.431126Z"
    }
   }
  },
  {
   "cell_type": "code",
   "execution_count": null,
   "outputs": [],
   "source": [
    "file = \"auditor_sentiment.npy\"\n",
    "conf_matrix = np.load('confusion_matrices/' + file).astype(int)\n",
    "disp = ConfusionMatrixDisplay(confusion_matrix=conf_matrix.T,\n",
    "                              display_labels=[\"Positive\", \"Neutral\", \"Negative\"])\n",
    "disp.plot(values_format='')\n",
    "plt.show()"
   ],
   "metadata": {
    "collapsed": false,
    "ExecuteTime": {
     "end_time": "2024-02-07T19:18:55.819054Z",
     "start_time": "2024-02-07T19:18:55.436240Z"
    }
   }
  },
  {
   "cell_type": "code",
   "execution_count": null,
   "outputs": [],
   "source": [
    "file = \"financial-bert.npy\"\n",
    "conf_matrix = np.load('confusion_matrices/' + file).astype(int)\n",
    "disp = ConfusionMatrixDisplay(confusion_matrix=conf_matrix.T,\n",
    "                              display_labels=[\"Positive\", \"Neutral\", \"Negative\"])\n",
    "disp.plot(values_format='')\n",
    "plt.show()"
   ],
   "metadata": {
    "collapsed": false,
    "ExecuteTime": {
     "end_time": "2024-02-07T19:18:56.010390Z",
     "start_time": "2024-02-07T19:18:55.728052Z"
    }
   }
  },
  {
   "cell_type": "code",
   "execution_count": null,
   "outputs": [],
   "source": [
    "file = \"financial-roberta.npy\"\n",
    "conf_matrix = np.load('confusion_matrices/' + file).astype(int)\n",
    "disp = ConfusionMatrixDisplay(confusion_matrix=conf_matrix.T,\n",
    "                              display_labels=[\"Positive\", \"Neutral\", \"Negative\"])\n",
    "disp.plot(values_format='')\n",
    "plt.show()"
   ],
   "metadata": {
    "collapsed": false,
    "ExecuteTime": {
     "end_time": "2024-02-07T19:18:56.259Z",
     "start_time": "2024-02-07T19:18:56.024329Z"
    }
   }
  },
  {
   "cell_type": "code",
   "execution_count": null,
   "outputs": [],
   "source": [
    "file = \"twitter-roberta.npy\"\n",
    "conf_matrix = np.load('confusion_matrices/' + file).astype(int)\n",
    "disp = ConfusionMatrixDisplay(confusion_matrix=conf_matrix.T,\n",
    "                              display_labels=[\"Positive\", \"Neutral\", \"Negative\"])\n",
    "disp.plot(values_format='')\n",
    "plt.show()"
   ],
   "metadata": {
    "collapsed": false,
    "ExecuteTime": {
     "end_time": "2024-02-07T19:18:56.504451Z",
     "start_time": "2024-02-07T19:18:56.258652Z"
    }
   }
  },
  {
   "cell_type": "code",
   "execution_count": null,
   "outputs": [],
   "source": [
    "confusion_matrix_folder = 'confusion_matrices'\n",
    "\n",
    "models = ['auditor_sentiment', 'financial-bert', 'financial-roberta', 'twitter-roberta'] # here paste model names\n",
    "results = []\n",
    "for model in models:\n",
    "    conf_matrix = np.load(f'{confusion_matrix_folder}/{model}.npy')\n",
    "    acc = np.diag(conf_matrix).sum() / conf_matrix.sum()\n",
    "    f1 = calculate_f1_score(conf_matrix)\n",
    "    results += [{\n",
    "        'model': model,\n",
    "        'accuracy': acc,\n",
    "        'f1_macro': np.mean(f1),\n",
    "        'f1_micro' : calculate_micro_f1(conf_matrix),\n",
    "        'f1_negative': f1[0],\n",
    "        'f1_neutral': f1[1],\n",
    "        'f1_positive': f1[2],\n",
    "    }]\n",
    "results = pd.DataFrame(results)"
   ],
   "metadata": {
    "collapsed": false,
    "ExecuteTime": {
     "end_time": "2024-02-07T19:18:56.517174Z",
     "start_time": "2024-02-07T19:18:56.508459Z"
    }
   }
  },
  {
   "cell_type": "code",
   "execution_count": null,
   "outputs": [],
   "source": [
    "results"
   ],
   "metadata": {
    "collapsed": false,
    "ExecuteTime": {
     "end_time": "2024-02-07T19:18:56.580077Z",
     "start_time": "2024-02-07T19:18:56.525994Z"
    }
   }
  },
  {
   "cell_type": "code",
   "execution_count": null,
   "outputs": [],
   "source": [
    "metrics = results.loc[:, [\"accuracy\", \"f1_macro\", \"f1_negative\", \"f1_neutral\", \"f1_positive\"]].to_numpy()"
   ],
   "metadata": {
    "collapsed": false,
    "ExecuteTime": {
     "end_time": "2024-02-07T19:18:56.580438Z",
     "start_time": "2024-02-07T19:18:56.534973Z"
    }
   }
  },
  {
   "cell_type": "code",
   "execution_count": null,
   "outputs": [],
   "source": [
    "colors = ['#3D348B', '#7678ED', '#F7B801', '#F18701', '#F35B04', '#D62828']\n",
    "\n",
    "fig = plt.subplots(figsize=(12, 8))\n",
    "\n",
    "metrics_to_plot = [\"accuracy\", \"f1_macro\", \"f1_negative\", \"f1_neutral\", \"f1_positive\"]\n",
    "barWidth = 0.8 / results.shape[0]\n",
    "\n",
    "metrics = results.loc[:, metrics_to_plot].to_numpy()\n",
    "\n",
    "for i in range(metrics.shape[0]):\n",
    "    scores = metrics[i]\n",
    "    br = [x + i * barWidth for x in np.arange(len(scores))]\n",
    "    j = i if metrics.shape[0] >= 5 else i + 1\n",
    "    plt.bar(br, scores, color=colors[j], width=barWidth,\n",
    "        edgecolor='grey', label=results.loc[i, \"model\"])\n",
    "    \n",
    "\n",
    "plt.xlabel('Metric', fontweight='bold', fontsize=15)\n",
    "plt.ylabel('Score', fontweight='bold', fontsize=15)\n",
    "plt.xticks([r + 0.4 - barWidth / 2 for r in range(len(metrics[0]))], metrics_to_plot, fontsize=12)\n",
    "\n",
    "plt.legend(fontsize=11)\n",
    "plt.show()"
   ],
   "metadata": {
    "collapsed": false,
    "ExecuteTime": {
     "end_time": "2024-02-07T19:18:56.915003Z",
     "start_time": "2024-02-07T19:18:56.556010Z"
    }
   }
  },
  {
   "cell_type": "code",
   "execution_count": null,
   "outputs": [],
   "source": [
    "file = \"flan.npy\"\n",
    "conf_matrix = np.load('confusion_matrices/' + file).astype(int)\n",
    "disp = ConfusionMatrixDisplay(confusion_matrix=conf_matrix.T,\n",
    "                              display_labels=[\"Positive\", \"Neutral\", \"Negative\"])\n",
    "disp.plot(values_format='')\n",
    "plt.show()"
   ],
   "metadata": {
    "collapsed": false,
    "ExecuteTime": {
     "end_time": "2024-02-07T19:18:57.138153Z",
     "start_time": "2024-02-07T19:18:56.915360Z"
    }
   }
  },
  {
   "cell_type": "code",
   "execution_count": null,
   "outputs": [],
   "source": [
    "file = \"deberta.npy\"\n",
    "conf_matrix = np.load('confusion_matrices/' + file).astype(int)\n",
    "disp = ConfusionMatrixDisplay(confusion_matrix=conf_matrix.T,\n",
    "                              display_labels=[\"Positive\", \"Neutral\", \"Negative\"])\n",
    "disp.plot(values_format='')\n",
    "plt.show()"
   ],
   "metadata": {
    "collapsed": false,
    "ExecuteTime": {
     "end_time": "2024-02-07T19:18:57.934975Z",
     "start_time": "2024-02-07T19:18:57.137770Z"
    }
   }
  },
  {
   "cell_type": "code",
   "execution_count": null,
   "outputs": [],
   "source": [
    "confusion_matrix_folder = 'confusion_matrices'\n",
    "\n",
    "models = ['flan', 'deberta'] # here paste model names\n",
    "results = []\n",
    "for model in models:\n",
    "    conf_matrix = np.load(f'{confusion_matrix_folder}/{model}.npy')\n",
    "    acc = np.diag(conf_matrix).sum() / conf_matrix.sum()\n",
    "    f1 = calculate_f1_score(conf_matrix)\n",
    "    results += [{\n",
    "        'model': model,\n",
    "        'accuracy': acc,\n",
    "        'f1_macro': np.mean(f1),\n",
    "        'f1_micro' : calculate_micro_f1(conf_matrix),\n",
    "        'f1_negative': f1[0],\n",
    "        'f1_neutral': f1[1],\n",
    "        'f1_positive': f1[2],\n",
    "    }]\n",
    "results = pd.DataFrame(results)"
   ],
   "metadata": {
    "collapsed": false,
    "ExecuteTime": {
     "end_time": "2024-02-07T19:18:57.945653Z",
     "start_time": "2024-02-07T19:18:57.937830Z"
    }
   }
  },
  {
   "cell_type": "code",
   "execution_count": null,
   "outputs": [],
   "source": [
    "results"
   ],
   "metadata": {
    "collapsed": false,
    "ExecuteTime": {
     "end_time": "2024-02-07T19:18:58.023549Z",
     "start_time": "2024-02-07T19:18:57.962339Z"
    }
   }
  },
  {
   "cell_type": "code",
   "execution_count": null,
   "outputs": [],
   "source": [
    "metrics = results.loc[:, [\"accuracy\", \"f1_negative\", \"f1_neutral\", \"f1_positive\"]].to_numpy()"
   ],
   "metadata": {
    "collapsed": false,
    "ExecuteTime": {
     "end_time": "2024-02-07T19:18:58.023983Z",
     "start_time": "2024-02-07T19:18:57.973391Z"
    }
   }
  },
  {
   "cell_type": "code",
   "execution_count": null,
   "outputs": [],
   "source": [
    "colors = ['#3D348B', '#7678ED', '#F7B801', '#F18701', '#F35B04', '#D62828']\n",
    "\n",
    "fig = plt.subplots(figsize=(12, 8))\n",
    "\n",
    "metrics_to_plot = [\"accuracy\", \"f1_macro\", \"f1_negative\", \"f1_neutral\", \"f1_positive\"]\n",
    "barWidth = 0.8 / results.shape[0]\n",
    "\n",
    "metrics = results.loc[:, metrics_to_plot].to_numpy()\n",
    "\n",
    "for i in range(metrics.shape[0]):\n",
    "    scores = metrics[i]\n",
    "    br = [x + i * barWidth for x in np.arange(len(scores))]\n",
    "    j = i if metrics.shape[0] >= 5 else i + 1\n",
    "    plt.bar(br, scores, color=colors[j], width=barWidth,\n",
    "        edgecolor='grey', label=results.loc[i, \"model\"])\n",
    "    \n",
    "\n",
    "plt.xlabel('Metric', fontweight='bold', fontsize=15)\n",
    "plt.ylabel('Score', fontweight='bold', fontsize=15)\n",
    "plt.xticks([r + 0.4 - barWidth / 2 for r in range(len(metrics[0]))], metrics_to_plot, fontsize=12)\n",
    "\n",
    "plt.legend(fontsize=14)\n",
    "plt.show()"
   ],
   "metadata": {
    "collapsed": false,
    "ExecuteTime": {
     "end_time": "2024-02-07T19:18:58.294506Z",
     "start_time": "2024-02-07T19:18:57.980931Z"
    }
   }
  },
  {
   "cell_type": "code",
   "execution_count": null,
   "outputs": [],
   "source": [],
   "metadata": {
    "collapsed": false,
    "ExecuteTime": {
     "end_time": "2024-02-07T19:18:58.298734Z",
     "start_time": "2024-02-07T19:18:58.295121Z"
    }
   }
  }
 ],
 "metadata": {
  "kernelspec": {
   "display_name": "Python 3",
   "language": "python",
   "name": "python3"
  },
  "language_info": {
   "codemirror_mode": {
    "name": "ipython",
    "version": 2
   },
   "file_extension": ".py",
   "mimetype": "text/x-python",
   "name": "python",
   "nbconvert_exporter": "python",
   "pygments_lexer": "ipython2",
   "version": "2.7.6"
  }
 },
 "nbformat": 4,
 "nbformat_minor": 0
}
