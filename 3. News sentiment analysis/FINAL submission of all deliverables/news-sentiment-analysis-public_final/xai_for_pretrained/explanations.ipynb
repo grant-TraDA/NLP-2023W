{
 "cells": [
  {
   "cell_type": "code",
   "execution_count": null,
   "metadata": {
    "collapsed": true,
    "ExecuteTime": {
     "end_time": "2024-02-05T19:56:46.481925200Z",
     "start_time": "2024-02-05T19:56:40.633124700Z"
    }
   },
   "outputs": [],
   "source": [
    "import pandas as pd\n",
    "\n",
    "from siebert_xai import visualize_ig_attr, ig_attr, lime_attr, visualize_lime_attr\n",
    "import sys\n",
    "sys.path.append('../lib/sentiment_analysis_utils')\n",
    "sys.path.append('../lib')\n",
    "from sentiment_analysis_utils import combine_lede_and_text, remove_text_formatting, read_all_news_in_dir\n",
    "import os"
   ]
  },
  {
   "cell_type": "markdown",
   "source": [
    "## Loading and transforming the data"
   ],
   "metadata": {
    "collapsed": false
   }
  },
  {
   "cell_type": "code",
   "execution_count": null,
   "outputs": [],
   "source": [
    "df_en_raw = read_all_news_in_dir(os.getcwd() + \"/../data_preparation/raw_data/en/\")\n",
    "df_en_raw = combine_lede_and_text(df_en_raw)\n",
    "df_en_raw = remove_text_formatting(df_en_raw)"
   ],
   "metadata": {
    "collapsed": false,
    "ExecuteTime": {
     "end_time": "2024-02-05T19:56:47.294643300Z",
     "start_time": "2024-02-05T19:56:46.474920200Z"
    }
   }
  },
  {
   "cell_type": "code",
   "execution_count": null,
   "outputs": [],
   "source": [
    "sieberta_predictions = pd.read_csv(os.getcwd() + \"/../data_preparation/document_predictions/test_dataseet_overall_sentiment_siebert-roberta.csv\")\n",
    "sieberta_predictions.drop([\"Unnamed: 0.1\"], axis=1, inplace=True)\n",
    "sieberta_predictions"
   ],
   "metadata": {
    "collapsed": false,
    "ExecuteTime": {
     "end_time": "2024-02-05T19:56:47.354160600Z",
     "start_time": "2024-02-05T19:56:47.299644500Z"
    }
   }
  },
  {
   "cell_type": "code",
   "execution_count": null,
   "outputs": [],
   "source": [
    "os.listdir(os.getcwd() + \"/../data_preparation/test_set_annotated/\")"
   ],
   "metadata": {
    "collapsed": false,
    "ExecuteTime": {
     "end_time": "2024-02-05T19:56:47.364565600Z",
     "start_time": "2024-02-05T19:56:47.349159200Z"
    }
   }
  },
  {
   "cell_type": "code",
   "execution_count": null,
   "outputs": [],
   "source": [
    "test_dataset = pd.DataFrame()\n",
    "for file_name in os.listdir(os.getcwd() + \"/../data_preparation/test_set_annotated/\"):\n",
    "    test_dataset = pd.concat([\n",
    "        test_dataset,\n",
    "        pd.read_excel(os.getcwd() + \"/../data_preparation/test_set_annotated/\" + file_name)\n",
    "])\n",
    "def merging_function(row):\n",
    "    try:\n",
    "        return row[row.first_valid_index()] + 1\n",
    "    except KeyError:\n",
    "        return pd.NA\n",
    "test_dataset.overall_sentiment = test_dataset[['overall_sentiment', 'overalll', 'overall']].apply(merging_function,axis=1)\n",
    "test_dataset"
   ],
   "metadata": {
    "collapsed": false,
    "ExecuteTime": {
     "end_time": "2024-02-05T19:56:47.973275900Z",
     "start_time": "2024-02-05T19:56:47.364565600Z"
    }
   }
  },
  {
   "cell_type": "code",
   "execution_count": null,
   "outputs": [],
   "source": [
    "predictions_labels_joined = test_dataset[['Unnamed: 0', 'overall_sentiment']].merge(sieberta_predictions, on='Unnamed: 0')\n",
    "y_true = predictions_labels_joined.overall_sentiment\n",
    "y_pred = predictions_labels_joined.overall_sentiment_name\n",
    "incorrect_texts = predictions_labels_joined[y_true != y_pred][['text', 'overall_sentiment', 'overall_sentiment_name']]\n",
    "incorrect_texts = incorrect_texts[incorrect_texts['overall_sentiment'].notna()]"
   ],
   "metadata": {
    "collapsed": false,
    "ExecuteTime": {
     "end_time": "2024-02-05T19:56:48.021415600Z",
     "start_time": "2024-02-05T19:56:47.975281700Z"
    }
   }
  },
  {
   "cell_type": "code",
   "execution_count": null,
   "outputs": [],
   "source": [
    "incorrect_texts"
   ],
   "metadata": {
    "collapsed": false,
    "ExecuteTime": {
     "end_time": "2024-02-05T19:56:48.113150100Z",
     "start_time": "2024-02-05T19:56:48.002934400Z"
    }
   }
  },
  {
   "cell_type": "markdown",
   "source": [
    "## Loading model"
   ],
   "metadata": {
    "collapsed": false
   }
  },
  {
   "cell_type": "code",
   "execution_count": null,
   "outputs": [],
   "source": [
    "from transformers import pipeline\n",
    "\n",
    "sentiment_analysis = pipeline(\"sentiment-analysis\", model=\"siebert/sentiment-roberta-large-english\")"
   ],
   "metadata": {
    "collapsed": false,
    "ExecuteTime": {
     "end_time": "2024-02-05T19:56:59.716381700Z",
     "start_time": "2024-02-05T19:56:48.034648400Z"
    }
   }
  },
  {
   "cell_type": "markdown",
   "source": [
    "## Select an article and compute attributions with respect to positive sentiment"
   ],
   "metadata": {
    "collapsed": false
   }
  },
  {
   "cell_type": "code",
   "execution_count": null,
   "outputs": [],
   "source": [
    "incorrect_texts.iloc[0]"
   ],
   "metadata": {
    "collapsed": false,
    "ExecuteTime": {
     "end_time": "2024-02-05T19:56:59.773385100Z",
     "start_time": "2024-02-05T19:56:59.719422300Z"
    }
   }
  },
  {
   "cell_type": "code",
   "execution_count": null,
   "outputs": [],
   "source": [
    "text = incorrect_texts.iloc[0].text\n",
    "attr_label = [int(incorrect_texts.iloc[0].overall_sentiment_name)]\n",
    "true_label = [int(incorrect_texts.iloc[0].overall_sentiment)]"
   ],
   "metadata": {
    "collapsed": false,
    "ExecuteTime": {
     "end_time": "2024-02-05T19:56:59.773385100Z",
     "start_time": "2024-02-05T19:56:59.744461Z"
    }
   }
  },
  {
   "cell_type": "code",
   "execution_count": null,
   "outputs": [],
   "source": [
    "attr, delta = ig_attr(sentiment_analysis, text, attr_label, return_convergence_delta=True)\n",
    "visualize_ig_attr(sentiment_analysis, text, attr, delta, attr_label, [true_label])"
   ],
   "metadata": {
    "collapsed": false,
    "ExecuteTime": {
     "end_time": "2024-02-05T17:49:35.661779900Z",
     "start_time": "2024-02-05T17:48:08.702928Z"
    }
   }
  },
  {
   "cell_type": "code",
   "execution_count": null,
   "outputs": [],
   "source": [
    "attr = lime_attr(sentiment_analysis, text, attr_label, n_samples=1000)\n",
    "visualize_lime_attr(sentiment_analysis, text, attr, attr_label, [1])"
   ],
   "metadata": {
    "collapsed": false,
    "ExecuteTime": {
     "end_time": "2024-02-05T20:21:29.308415800Z",
     "start_time": "2024-02-05T19:56:59.762385300Z"
    }
   }
  },
  {
   "cell_type": "code",
   "execution_count": null,
   "outputs": [],
   "source": [
    "visualize_lime_attr(sentiment_analysis, text, 10 *attr, attr_label, [1])"
   ],
   "metadata": {
    "collapsed": false,
    "ExecuteTime": {
     "end_time": "2024-02-05T20:47:58.812203500Z",
     "start_time": "2024-02-05T20:47:54.478095600Z"
    }
   }
  },
  {
   "cell_type": "code",
   "execution_count": null,
   "outputs": [],
   "source": [
    "text = \"Today is a beautiful day and I can't stop smiling\"\n",
    "attr_label = 1\n",
    "true_label = 1"
   ],
   "metadata": {
    "collapsed": false,
    "ExecuteTime": {
     "end_time": "2024-02-05T19:22:33.164680900Z",
     "start_time": "2024-02-05T19:22:33.143757500Z"
    }
   }
  },
  {
   "cell_type": "code",
   "execution_count": null,
   "outputs": [],
   "source": [
    "attr, delta = ig_attr(sentiment_analysis, text, attr_label, return_convergence_delta=True)\n",
    "visualize_ig_attr(sentiment_analysis, text, attr, delta, attr_label, [true_label])"
   ],
   "metadata": {
    "collapsed": false,
    "ExecuteTime": {
     "end_time": "2024-02-05T19:22:38.469447500Z",
     "start_time": "2024-02-05T19:22:34.529811200Z"
    }
   }
  },
  {
   "cell_type": "code",
   "execution_count": null,
   "outputs": [],
   "source": [
    "attr = lime_attr(sentiment_analysis, text, attr_label)\n",
    "visualize_lime_attr(sentiment_analysis, text, attr, attr_label, [1])"
   ],
   "metadata": {
    "collapsed": false,
    "ExecuteTime": {
     "end_time": "2024-02-05T19:23:25.893948400Z",
     "start_time": "2024-02-05T19:22:56.935251700Z"
    }
   }
  }
 ],
 "metadata": {
  "kernelspec": {
   "display_name": "Python 3",
   "language": "python",
   "name": "python3"
  },
  "language_info": {
   "codemirror_mode": {
    "name": "ipython",
    "version": 2
   },
   "file_extension": ".py",
   "mimetype": "text/x-python",
   "name": "python",
   "nbconvert_exporter": "python",
   "pygments_lexer": "ipython2",
   "version": "2.7.6"
  }
 },
 "nbformat": 4,
 "nbformat_minor": 0
}
